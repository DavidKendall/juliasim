{
 "cells": [
  {
   "cell_type": "markdown",
   "id": "ef9ae889",
   "metadata": {},
   "source": [
    "## Installation\n",
    "\n",
    "To get the latest stable version of Julia go to the downloads page (https://julialang.org/downloads/) and download Generic Linux on x86 64 bit (glibc). Unpack to some suitable sub-directory of $HOME and configure your PATH to search `<latest_stable_julia>/bin` for executables. Start a new Julia REPL and press ']' to get to the package manager, then do:\n",
    "\n",
    "```\n",
    "pkg> add(\"IJulia\")\n",
    "pkg> update() \n",
    "pkg> build(\"IJulia\")\n",
    "```\n",
    "\n",
    "To create a multi-threaded Julia kernel for use with Jupyter do something like:\n",
    "\n",
    "```\n",
    "julia> using IJulia\n",
    "julia> IJulia.installkernel(\"Julia Multi-threaded\", env=Dict(\n",
    "    \"JULIA_NUM_THREADS\" => \"auto\",\n",
    "))\n",
    "```\n",
    "\n",
    "Start a new notebook session:\n",
    "\n",
    "```\n",
    "$ jupyter notebook\n",
    "```\n",
    "\n",
    "You should then be able to choose your new Julia version from the dropdown menu.\n",
    "\n"
   ]
  },
  {
   "cell_type": "markdown",
   "id": "01cd61c4",
   "metadata": {},
   "source": [
    "## Initialisation"
   ]
  },
  {
   "cell_type": "code",
   "execution_count": null,
   "id": "89f5b561",
   "metadata": {},
   "outputs": [],
   "source": [
    "include(\"model.jl\")\n",
    "import .SwarmModel as SM\n",
    "using .SwarmModel\n",
    "\n",
    "include(\"modelstats.jl\")\n",
    "import .ModelStats as MS\n",
    "using .ModelStats\n",
    "\n",
    "using Plots"
   ]
  },
  {
   "cell_type": "markdown",
   "id": "76740bf9",
   "metadata": {},
   "source": [
    "## Reproduce graphs from paper"
   ]
  },
  {
   "cell_type": "code",
   "execution_count": null,
   "id": "486c597a",
   "metadata": {},
   "outputs": [],
   "source": [
    "b, parameters = load_swarm(\"./config/base_400.json\")\n",
    "compute_step(b; parameters...)\n",
    "prm = findall(b[:,SM.PRM] .> 0.)\n",
    "scatter(b[:,SM.POS_X],b[:,SM.POS_Y]; legend=false, markersize=2, markercolor=:black, aspect_ratio=:equal)\n",
    "scatter!(b[prm,SM.POS_X],b[prm,SM.POS_Y]; legend=false, markersize=2, markercolor=:red, aspect_ratio=:equal)"
   ]
  },
  {
   "cell_type": "code",
   "execution_count": null,
   "id": "c68260a0",
   "metadata": {},
   "outputs": [],
   "source": [
    "b, parameters = load_swarm(\"./config/base_400.json\")\n",
    "for i in 1:2000\n",
    "    compute_step(b; parameters...)\n",
    "    apply_step(b)\n",
    "end\n",
    "prm = findall(b[:,SM.PRM] .> 0.)\n",
    "scatter(b[:,SM.POS_X],b[:,SM.POS_Y]; legend=false, markersize=2, markercolor=:black, aspect_ratio=:equal)\n",
    "scatter!(b[prm,SM.POS_X],b[prm,SM.POS_Y]; legend=false, markersize=2, markercolor=:red, aspect_ratio=:equal)"
   ]
  },
  {
   "cell_type": "code",
   "execution_count": null,
   "id": "68120ffd",
   "metadata": {},
   "outputs": [],
   "source": [
    "b, parameters = load_swarm(\"./config/base_hole_370.json\")\n",
    "compute_step(b; parameters...)\n",
    "prm = findall(b[:,SM.PRM] .> 0.)\n",
    "scatter(b[:,SM.POS_X],b[:,SM.POS_Y]; legend=false, markersize=2, markercolor=:black, aspect_ratio=:equal)\n",
    "scatter!(b[prm,SM.POS_X],b[prm,SM.POS_Y]; legend=false, markersize=2, markercolor=:red, aspect_ratio=:equal)"
   ]
  },
  {
   "cell_type": "code",
   "execution_count": null,
   "id": "1f7220ea",
   "metadata": {},
   "outputs": [],
   "source": [
    "b, parameters = load_swarm(\"./config/base_hole_370.json\")\n",
    "for i in 1:2000\n",
    "    compute_step(b; parameters...)\n",
    "    apply_step(b)\n",
    "end\n",
    "prm = findall(b[:,SM.PRM] .> 0.)\n",
    "scatter(b[:,SM.POS_X],b[:,SM.POS_Y]; legend=false, markersize=2, markercolor=:black, aspect_ratio=:equal)\n",
    "scatter!(b[prm,SM.POS_X],b[prm,SM.POS_Y]; legend=false, markersize=2, markercolor=:red, aspect_ratio=:equal)"
   ]
  },
  {
   "cell_type": "code",
   "execution_count": null,
   "id": "9ab4b612",
   "metadata": {},
   "outputs": [],
   "source": [
    "b, parameters = load_swarm(\"./config/gap_fill_no_rgf_hole_370.json\")\n",
    "for i in 1:2000\n",
    "    compute_step(b; parameters...)\n",
    "    apply_step(b)\n",
    "end\n",
    "prm = findall(b[:,SM.PRM] .> 0.)\n",
    "scatter(b[:,SM.POS_X],b[:,SM.POS_Y]; legend=false, markersize=2, markercolor=:black, aspect_ratio=:equal)\n",
    "scatter!(b[prm,SM.POS_X],b[prm,SM.POS_Y]; legend=false, markersize=2, markercolor=:red, aspect_ratio=:equal)"
   ]
  },
  {
   "cell_type": "code",
   "execution_count": null,
   "id": "f8fc7379",
   "metadata": {},
   "outputs": [],
   "source": [
    "b, parameters = load_swarm(\"./config/gap_fill_with_rgf_hole_370.json\")\n",
    "for i in 1:2000\n",
    "    SM.compute_step(b; parameters...)\n",
    "    SM.apply_step(b)\n",
    "end\n",
    "prm = findall(b[:,SM.PRM] .> 0.)\n",
    "scatter(b[:,SM.POS_X],b[:,SM.POS_Y]; legend=false, markersize=2, markercolor=:black, aspect_ratio=:equal)\n",
    "scatter!(b[prm,SM.POS_X],b[prm,SM.POS_Y]; legend=false, markersize=2, markercolor=:red, aspect_ratio=:equal)"
   ]
  },
  {
   "cell_type": "code",
   "execution_count": null,
   "id": "23feb958",
   "metadata": {},
   "outputs": [],
   "source": [
    "b, parameters = load_swarm(\"./config/outer_400.json\")\n",
    "for i in 1:2000\n",
    "    compute_step(b; parameters...)\n",
    "    apply_step(b)\n",
    "end\n",
    "prm = findall(b[:,SM.PRM] .> 0.)\n",
    "scatter(b[:,SM.POS_X],b[:,SM.POS_Y]; legend=false, markersize=2, markercolor=:black, aspect_ratio=:equal)\n",
    "scatter!(b[prm,SM.POS_X],b[prm,SM.POS_Y]; legend=false, markersize=2, markercolor=:red, aspect_ratio=:equal)"
   ]
  },
  {
   "cell_type": "code",
   "execution_count": null,
   "id": "b9938a66",
   "metadata": {},
   "outputs": [],
   "source": [
    "b, parameters = load_swarm(\"./config/inner_400.json\")\n",
    "for i in 1:2000\n",
    "    compute_step(b; parameters...)\n",
    "    apply_step(b)\n",
    "end\n",
    "prm = findall(b[:,SM.PRM] .> 0.)\n",
    "scatter(b[:,SM.POS_X],b[:,SM.POS_Y]; legend=false, markersize=2, markercolor=:black, aspect_ratio=:equal)\n",
    "scatter!(b[prm,SM.POS_X],b[prm,SM.POS_Y]; legend=false, markersize=2, markercolor=:red, aspect_ratio=:equal)"
   ]
  },
  {
   "cell_type": "code",
   "execution_count": null,
   "id": "563baaf1",
   "metadata": {},
   "outputs": [],
   "source": [
    "plot_mean_distances(\"./config/base_400.json\", n_steps=2000, legend=:bottomright)"
   ]
  },
  {
   "cell_type": "code",
   "execution_count": null,
   "id": "28ffb690",
   "metadata": {},
   "outputs": [],
   "source": [
    "plot_mean_distances(\"./config/base_hole_370.json\", n_steps=2000, legend=:outerright)"
   ]
  },
  {
   "cell_type": "code",
   "execution_count": null,
   "id": "4aea12db",
   "metadata": {},
   "outputs": [],
   "source": [
    "plot_mean_distances(\"./config/gap_fill_no_rgf_hole_370.json\", n_steps=2000)"
   ]
  },
  {
   "cell_type": "code",
   "execution_count": null,
   "id": "6121c046",
   "metadata": {},
   "outputs": [],
   "source": [
    "plot_mean_distances(\"./config/gap_fill_with_rgf_hole_370.json\", n_steps=2000)"
   ]
  },
  {
   "cell_type": "code",
   "execution_count": null,
   "id": "caf2d961",
   "metadata": {},
   "outputs": [],
   "source": [
    "plot_mean_distances(\"./config/inner_400.json\", n_steps=2000, with_stdev=true)"
   ]
  },
  {
   "cell_type": "code",
   "execution_count": null,
   "id": "965a3373",
   "metadata": {},
   "outputs": [],
   "source": [
    "plot_mean_distances(\"./config/outer_400.json\", n_steps=2000, with_stdev=true)"
   ]
  },
  {
   "cell_type": "code",
   "execution_count": null,
   "id": "037dc785",
   "metadata": {},
   "outputs": [],
   "source": [
    "plot_mean_distances(\"./config/outer_400.json\", n_steps=2000, with_stdev=true, pre_p=true)"
   ]
  },
  {
   "cell_type": "markdown",
   "id": "8f36c66c",
   "metadata": {},
   "source": [
    "## Animation examples"
   ]
  },
  {
   "cell_type": "code",
   "execution_count": null,
   "id": "94d20717",
   "metadata": {},
   "outputs": [],
   "source": [
    "b, parameters = load_swarm(\"./config/gap_fill_with_rgf_hole_370.json\")\n",
    "@gif for i in 1:2000\n",
    "    compute_step(b; parameters...)\n",
    "    apply_step(b)\n",
    "    prm = findall(b[:,SM.PRM] .> 0.)\n",
    "    scatter(b[:,SM.POS_X],b[:,SM.POS_Y]; legend=false, markersize=3, markercolor=:black, aspect_ratio=:equal)\n",
    "    scatter!(b[prm,SM.POS_X],b[prm,SM.POS_Y]; legend=false, markersize=3, markercolor=:red, aspect_ratio=:equal, annotationfontsize=10, annotations=(20, 15, lpad(i, 5, \"0\")))    \n",
    "end\n"
   ]
  },
  {
   "cell_type": "code",
   "execution_count": null,
   "id": "5a48c9c7",
   "metadata": {},
   "outputs": [],
   "source": [
    "b, parameters = load_swarm(\"./config/gap_fill_with_rgf_hole_370.json\")\n",
    "parameters[:gain] = 0.0008\n",
    "@gif for i in 1:2000\n",
    "    compute_step(b; parameters...)\n",
    "    apply_step(b)\n",
    "    prm = findall(b[:,SM.PRM] .> 0.)\n",
    "    scatter(b[:,SM.POS_X],b[:,SM.POS_Y]; legend=false, markersize=3, markercolor=:black, aspect_ratio=:equal)\n",
    "    scatter!(b[prm,SM.POS_X],b[prm,SM.POS_Y]; legend=false, markersize=3, markercolor=:red, aspect_ratio=:equal, annotationfontsize=10, annotations=(20, 15, lpad(i, 5, \"0\")))    \n",
    "end"
   ]
  },
  {
   "cell_type": "markdown",
   "id": "5fad555c",
   "metadata": {},
   "source": [
    "## Linear Control Examples"
   ]
  },
  {
   "cell_type": "markdown",
   "id": "ce2fdd79",
   "metadata": {},
   "source": [
    "### Successes"
   ]
  },
  {
   "cell_type": "code",
   "execution_count": null,
   "id": "0afc698d",
   "metadata": {},
   "outputs": [],
   "source": [
    "b, parameters = load_swarm(\"./config/gap_fill_with_rgf_hole_370.json\")\n",
    "parameters[:gain] = 0.0008\n",
    "for i in 1:40000\n",
    "    compute_step(b; parameters...)\n",
    "    apply_step(b)\n",
    "end\n",
    "prm = findall(b[:,SM.PRM] .> 0.)\n",
    "scatter(b[:,SM.POS_X],b[:,SM.POS_Y]; legend=false, markersize=2, markercolor=:black, aspect_ratio=:equal)\n",
    "scatter!(b[prm,SM.POS_X],b[prm,SM.POS_Y]; legend=false, markersize=2, markercolor=:red, aspect_ratio=:equal)"
   ]
  },
  {
   "cell_type": "code",
   "execution_count": null,
   "id": "c7efac81",
   "metadata": {},
   "outputs": [],
   "source": [
    "plot_mean_distances(\"./config/gap_fill_with_rgf_hole_370.json\", n_steps=40000, with_stdev=true, overrides=Dict(:gain => 0.0008))"
   ]
  },
  {
   "cell_type": "code",
   "execution_count": null,
   "id": "b470fc81",
   "metadata": {},
   "outputs": [],
   "source": [
    "b, parameters = load_swarm(\"./config/inner_400.json\")\n",
    "parameters[:gain] = 0.0008\n",
    "for i in 1:20000\n",
    "    compute_step(b; parameters...)\n",
    "    apply_step(b)\n",
    "end\n",
    "prm = findall(b[:,SM.PRM] .> 0.)\n",
    "scatter(b[:,SM.POS_X],b[:,SM.POS_Y]; legend=false, markersize=2, markercolor=:black, aspect_ratio=:equal)\n",
    "scatter!(b[prm,SM.POS_X],b[prm,SM.POS_Y]; legend=false, markersize=2, markercolor=:red, aspect_ratio=:equal)"
   ]
  },
  {
   "cell_type": "code",
   "execution_count": null,
   "id": "92488803",
   "metadata": {},
   "outputs": [],
   "source": [
    "plot_mean_distances(\"./config/inner_400.json\", n_steps=20000, with_stdev=true, overrides=Dict(:gain => 0.0008))"
   ]
  },
  {
   "cell_type": "markdown",
   "id": "df0fb50f",
   "metadata": {},
   "source": [
    "The examples of `gap_fill_with_rgf_hole_370` and `inner_400` show that linear control can achieve good, stable swarm structures using a gain of 0.0008 with all other parameters as before. "
   ]
  },
  {
   "cell_type": "markdown",
   "id": "d1081fa1",
   "metadata": {},
   "source": [
    "### A problem: `outer_400`\n",
    "\n",
    "The next example, `outer_400`, looks less promising so far. The swarm structure graph below shows the swarm structure after 20000 steps, with gain of 0.0008 and other parameters left as before. The swarm becomes much more highly compressed and rather distorted."
   ]
  },
  {
   "cell_type": "code",
   "execution_count": null,
   "id": "3a0eefab",
   "metadata": {},
   "outputs": [],
   "source": [
    "b, parameters = load_swarm(\"./config/outer_400.json\")\n",
    "parameters[:gain] = 0.0008\n",
    "for i in 1:20000\n",
    "    compute_step(b; parameters...)\n",
    "    apply_step(b)\n",
    "end\n",
    "prm = findall(b[:,SM.PRM] .> 0.)\n",
    "scatter(b[:,SM.POS_X],b[:,SM.POS_Y]; legend=false, markersize=2, markercolor=:black, aspect_ratio=:equal)\n",
    "scatter!(b[prm,SM.POS_X],b[prm,SM.POS_Y]; legend=false, markersize=2, markercolor=:red, aspect_ratio=:equal)"
   ]
  },
  {
   "cell_type": "markdown",
   "id": "a0332234",
   "metadata": {},
   "source": [
    "The knn-distance graph shows that the perimeter classes do settle down to something reasonably stable. Notice that pre-computation of the perimeter is required to get a sensible distance graph. The `boundary` parameter is used to select the cut-off point at which agents should be identified as perimeter agents. The boundary value used for this graph is 20, i.e. if an agent is identified as a perimeter agent in at least 20% (`boundary=20`) of the steps then it is classified as a perimeter agent. "
   ]
  },
  {
   "cell_type": "code",
   "execution_count": null,
   "id": "6eec1fcb",
   "metadata": {},
   "outputs": [],
   "source": [
    "plot_mean_distances(\"./config/outer_400.json\", n_steps=20000, with_stdev=true, pre_p=true, boundary=20, saved_figure=true, overrides=Dict(:gain => 0.0008))"
   ]
  },
  {
   "cell_type": "markdown",
   "id": "cc4f338c",
   "metadata": {},
   "source": [
    "A boundary value of 20 seems like a low cut-off value. It is much lower than our usual value (`boundary=50`). However, the swarm structure graph below shows that in this case a boundary value of 20 is appropriate, as it identifies all, and only, those agents that would be identified as 'on the perimeter' by a human observer."
   ]
  },
  {
   "cell_type": "code",
   "execution_count": null,
   "id": "d43a19f4",
   "metadata": {},
   "outputs": [],
   "source": [
    "b1, parameters1 = load_swarm(\"./config/outer_400.json\")\n",
    "parameters1[:gain] = 0.0008\n",
    "p = MS.agent_perimeter_status(b1, parameters1, n_steps=20000, boundary=20)\n",
    "prm = findall(p .== 2)\n",
    "scatter(b[:,SM.POS_X],b[:,SM.POS_Y]; legend=false, markersize=2, markercolor=:black, aspect_ratio=:equal)\n",
    "scatter!(b[prm,SM.POS_X],b[prm,SM.POS_Y]; legend=false, markersize=2, markercolor=:red, aspect_ratio=:equal)"
   ]
  },
  {
   "cell_type": "markdown",
   "id": "ad21d020",
   "metadata": {},
   "source": [
    "The distance graph below gives the results when a boundary value of 50 is used for this example. It can be seen that only the $(S_i, S_i)$ class of agents is present in the graph. This is because a boundary value of 50 identifies _no_ agents as perimeter agents, suggesting that the perimeter is highly unstable."
   ]
  },
  {
   "cell_type": "code",
   "execution_count": null,
   "id": "cc3733c8",
   "metadata": {},
   "outputs": [],
   "source": [
    "plot_mean_distances(\"./config/outer_400.json\", n_steps=20000, with_stdev=true, pre_p=true, boundary=50, overrides=Dict(:gain => 0.0008))"
   ]
  },
  {
   "cell_type": "markdown",
   "id": "e6d06f7b",
   "metadata": {},
   "source": [
    "The final example shows an attempt to find some parameters to produce a well-structured swarm with a compact perimeter. This is the best I've been able to manage so far. It can be seen that the swarm is neither as well-structured, nor is its perimeter as compact, as in the normalised version. Maybe this is a prime target for a learning algorithm? Or perhaps you can find a better set of parameters?"
   ]
  },
  {
   "cell_type": "code",
   "execution_count": null,
   "id": "41827d42",
   "metadata": {},
   "outputs": [],
   "source": [
    "b, parameters = load_swarm(\"./config/outer_400.json\")\n",
    "parameters[:gain] = 0.0008\n",
    "parameters[:kc] = [0.15 5.0; 0.15 75.0]\n",
    "parameters[:kr] = [25.0 2.0; 75.0 75.0]\n",
    "parameters[:kg] = 350\n",
    "for i in 1:40000\n",
    "    compute_step(b; parameters...)\n",
    "    apply_step(b)\n",
    "end\n",
    "prm = findall(b[:,SM.PRM] .> 0.)\n",
    "scatter(b[:,SM.POS_X],b[:,SM.POS_Y]; legend=false, markersize=2, markercolor=:black, aspect_ratio=:equal)\n",
    "scatter!(b[prm,SM.POS_X],b[prm,SM.POS_Y]; legend=false, markersize=2, markercolor=:red, aspect_ratio=:equal, )\n",
    "#annotationfontsize=10, annotations=(20, 10, lpad(i, 5, \"0\"))"
   ]
  },
  {
   "cell_type": "code",
   "execution_count": null,
   "id": "888b5409",
   "metadata": {},
   "outputs": [],
   "source": [
    "plot_mean_distances(\"./config/outer_400.json\", n_steps=40000, with_stdev=true, pre_p=true, boundary=20, \n",
    "                    overrides=Dict(:kc => [0.15 5.0; 0.15 75.0], :kr => [25.0 2.0; 75.0 75.0], :kg => 350, :gain => 0.0008))"
   ]
  }
 ],
 "metadata": {
  "kernelspec": {
   "display_name": "Julia Multi-threaded 1.7.2",
   "language": "julia",
   "name": "julia-multi-threaded-1.7"
  },
  "language_info": {
   "file_extension": ".jl",
   "mimetype": "application/julia",
   "name": "julia",
   "version": "1.7.2"
  }
 },
 "nbformat": 4,
 "nbformat_minor": 5
}
