{
 "cells": [
  {
   "cell_type": "markdown",
   "id": "a576d67e",
   "metadata": {},
   "source": [
    "## Initialisation"
   ]
  },
  {
   "cell_type": "code",
   "execution_count": null,
   "id": "89f5b561",
   "metadata": {},
   "outputs": [],
   "source": [
    "include(\"model.jl\")\n",
    "import .SwarmModel as SM\n",
    "using .SwarmModel\n",
    "\n",
    "include(\"modelstats.jl\")\n",
    "import .ModelStats as MS\n",
    "using .ModelStats"
   ]
  },
  {
   "cell_type": "code",
   "execution_count": null,
   "id": "1c68948a-4117-4d6e-a5d7-a5f7d6dc86fb",
   "metadata": {},
   "outputs": [],
   "source": [
    "using Plots, Measures"
   ]
  },
  {
   "cell_type": "code",
   "execution_count": null,
   "id": "add61f20-e67d-40ad-a163-29dfa6f16d07",
   "metadata": {},
   "outputs": [],
   "source": [
    "import PyPlot; const plt = PyPlot\n",
    "rcParams = PyPlot.PyDict(PyPlot.matplotlib.\"rcParams\")\n",
    "rcParams[\"font.family\"] = \"serif\"\n",
    "rcParams[\"font.size\"] = 8\n",
    "rcParams[\"figure.dpi\"] = 200\n",
    "rcParams[\"lines.linewidth\"] = 1\n",
    "rcParams[\"axes.labelsize\"] = 6\n",
    "rcParams[\"axes.titlesize\"] = 7\n",
    "rcParams[\"legend.fontsize\"] = 5\n",
    "rcParams[\"xtick.labelsize\"] = 6\n",
    "rcParams[\"ytick.labelsize\"] = 6\n",
    "rcParams[\"text.usetex\"] = false\n",
    "rcParams[\"figure.figsize\"] = (3.5, 3.5)"
   ]
  },
  {
   "cell_type": "code",
   "execution_count": null,
   "id": "9295cf0a-8ef6-476c-8ed8-de5d3816238c",
   "metadata": {},
   "outputs": [],
   "source": [
    "function run_simulation_for_n_steps(b, parameters, n_steps=2000)\n",
    "    for i in 1:n_steps\n",
    "        compute_step(b; parameters...)\n",
    "        apply_step(b)\n",
    "    end\n",
    "end\n",
    "\n",
    "function show_swarm(config_file; system=nothing, overrides=nothing, goal=nothing, title=\"\", \n",
    "                    xlims=nothing, ylims=nothing, step=nothing, xmargin=1, ymargin=1, \n",
    "                    xtick_rotation=0, compute=true, with_params=true, markersize=1, savedfigure=nothing)\n",
    "    if system !== nothing\n",
    "        b, parameters = system\n",
    "    else\n",
    "        b, parameters = load_swarm(config_file)\n",
    "        parameters = overrides === nothing ? parameters : merge(parameters, overrides)\n",
    "    end\n",
    "    if goal !== nothing\n",
    "        b[:,SM.GOAL_X:SM.GOAL_Y] .= goal\n",
    "    end\n",
    "    if compute\n",
    "        compute_step(b; parameters...)\n",
    "    end\n",
    "    prm = findall(b[:,SM.PRM] .> 0.)\n",
    "    _prm = setdiff(1:size(b)[1], prm)\n",
    "    if with_params\n",
    "        paramstring = SM.stringify_parameters(parameters)\n",
    "    else\n",
    "        paramstring = \"\"\n",
    "    end\n",
    "    sep = config_file == \"\" ? \"\" : \" - \"\n",
    "    title = title * sep * splitext(basename(config_file))[1] * \"\\n\" * paramstring\n",
    "    if xlims == nothing\n",
    "        xlims = minimum(b[:,SM.POS_X]) - xmargin, maximum(b[:,SM.POS_X]) + xmargin\n",
    "    end\n",
    "    if ylims == nothing\n",
    "        ylims = minimum(b[:,SM.POS_Y]) - ymargin, maximum(b[:,SM.POS_Y]) + ymargin\n",
    "    end\n",
    "    fig, ax  = plt.subplots()\n",
    "    ax.set(xlim=xlims, ylim=ylims)        # set the limits of the axes\n",
    "    if step !== nothing\n",
    "        plt.xticks([n for n in xlims[1]:step:xlims[2]], rotation=xtick_rotation)\n",
    "        plt.yticks([n for n in ylims[1]:step:ylims[2]])\n",
    "    end\n",
    "    ax.set_xlabel(\"POS_X\")\n",
    "    ax.set_ylabel(\"POS_Y\")\n",
    "    ax.set_aspect(\"equal\")\n",
    "    ax.set_title(title)\n",
    "    plt.grid(alpha=0.25)\n",
    "    plt.subplots_adjust(left=0.2, top=0.85)\n",
    "    ax.plot(b[_prm,SM.POS_X],b[_prm,SM.POS_Y], \"ko\", markersize=markersize)\n",
    "    ax.plot(b[prm,SM.POS_X],b[prm,SM.POS_Y], \"ro\", markersize=markersize)\n",
    "    if goal !== nothing\n",
    "        ax.plot([goal[1]], [goal[2]], \"b+\", markersize=4)\n",
    "    end\n",
    "    if savedfigure !== nothing\n",
    "        fig.savefig(savedfigure, bbox_inches=\"tight\")\n",
    "    end\n",
    "    return fig, ax\n",
    "end\n",
    "\n",
    "function plot_mean_distances(config_file=\"config/base_400.json\"; system=nothing, goal=nothing,\n",
    "                             means=nothing, stds=nothing, n_steps=500, plots=[:ii, :pi, :pp],\n",
    "                             k=[2,1,1,2], pre_p=false, boundary=50, with_stdev=false, \n",
    "                             overrides=nothing, failure=nothing, savedfigure=nothing, \n",
    "                             legend_loc=\"best\", alt_file=nothing)\n",
    "    if system !== nothing\n",
    "        b, parameters = system\n",
    "    else\n",
    "        b, parameters = load_swarm(config_file)\n",
    "        parameters = overrides === nothing ? parameters : merge(parameters, overrides)\n",
    "    end\n",
    "    if goal !== nothing\n",
    "        b[:,SM.GOAL_X:SM.GOAL_Y] .= goal\n",
    "    end\n",
    "    if pre_p\n",
    "        p = MS.agent_perimeter_status(b, parameters, n_steps=n_steps, boundary=boundary)\n",
    "    else\n",
    "        p = nothing\n",
    "    end\n",
    "    if means === nothing\n",
    "        means, stds = knn_mean_distances(b, parameters, n_steps=n_steps, class_ids=plots,\n",
    "                                         k=k, perimeter=p, failure=failure)\n",
    "    end\n",
    "    ptype = with_stdev ? \"\\\\Psi_d\" : \"\\\\mu_d\"\n",
    "    if alt_file !== nothing\n",
    "        file_basename = alt_file\n",
    "    else\n",
    "        file_basename = splitext(basename(config_file))[1]\n",
    "    end\n",
    "    title = \"Distance metric by perimeter class - $(file_basename)\\n $(SM.stringify_parameters(parameters))\"\n",
    "    labels = Dict(:ii => \"\\$$(ptype)(S_i, S_i, $(k[1]))\\$\",\n",
    "                  :ip => \"\\$$(ptype)(S_i, S_p, $(k[2]))\\$\",\n",
    "                  :pi => \"\\$$(ptype)(S_p, S_i, $(k[3]))\\$\",\n",
    "                  :pp => \"\\$$(ptype)(S_p, S_p, $(k[4]))\\$\")\n",
    "    # colors = Dict(:ii => \"black\", :ip => \"green\", :pi => \"blue\", :pp => \"red\")\n",
    "    colors = Dict(:ii => \"k-\", :ip => \"g-\", :pi => \"b-\", :pp => \"r-\")\n",
    "    facecolors = Dict(:ii => \"black\", :ip => \"green\", :pi => \"blue\", :pp => \"red\")\n",
    "    # ribbons = [with_stdev ? stds[:, i] : nothing for i in 1:length(plots)]\n",
    "    # plt = plot(plot_title=title, plot_titlefontsize=10, xlabel=\"Simulation step number\",\n",
    "    #            ylabel=\"\\$$(ptype)\\$\")\n",
    "    # for i in 1:length(plots)\n",
    "    #     p = plots[i]\n",
    "    #     plot!(plt, means[:, i]; ribbon=ribbons[i], color=colors[p], fillalpha=0.25,\n",
    "    #     label=labels[p], plotargs...)\n",
    "    # end\n",
    "    fig, ax = plt.subplots(figsize=(3.5,2.5))\n",
    "    ax.set_title(title)\n",
    "    ax.set_xlabel(\"Simulation step number\")\n",
    "    ax.set_ylabel(\"\\$$(ptype)\\$\")\n",
    "    ymin = minimum(means) - maximum(stds)\n",
    "    ymax = maximum(means) + maximum(stds)\n",
    "    ax.set(xlim=(0,n_steps), ylim=(ymin, ymax))\n",
    "    ax.grid(true)\n",
    "    line = Array{Vector{plt.PyObject}, 1}(undef, length(plots))\n",
    "    for i in 1:length(plots)\n",
    "        p = plots[i]\n",
    "        line[i] = ax.plot(means[:,i], colors[p], label=labels[p])\n",
    "        # line[i].set_label(labels[p])\n",
    "        if with_stdev\n",
    "            ax.fill_between(1:n_steps, means[:,i] .+ stds[:,i], means[:,i] .- stds[:,i],\n",
    "                            facecolor=facecolors[p], alpha=0.25)\n",
    "        end\n",
    "    end\n",
    "    ax.legend(loc=legend_loc)\n",
    "    plt.subplots_adjust(left=0.15, top=0.8, bottom=0.2)\n",
    "    if savedfigure !== nothing\n",
    "        fig.savefig(savedfigure, bbox_inches=\"tight\")\n",
    "    end\n",
    "    # display(plt)\n",
    "    return fig, ax, means, stds\n",
    "end"
   ]
  },
  {
   "cell_type": "markdown",
   "id": "2a653708-0bab-41af-a7fa-e88fd8def3d0",
   "metadata": {},
   "source": [
    "## Reproduce graphs from paper"
   ]
  },
  {
   "cell_type": "code",
   "execution_count": null,
   "id": "61c4b87f-0414-43c6-8a3c-0e6b54468127",
   "metadata": {},
   "outputs": [],
   "source": [
    "show_swarm(\"../config/base_400.json\", title=\"Initial swarm state\", savedfigure=\"base_400_init_new.pdf\")"
   ]
  },
  {
   "cell_type": "code",
   "execution_count": null,
   "id": "bd60e5d8-820c-49bc-80c0-2dddd6dcf50d",
   "metadata": {},
   "outputs": [],
   "source": [
    "n_steps = 2000\n",
    "config = \"base_400\"\n",
    "config_file = \"../config/$(config).json\"\n",
    "b, parameters = load_swarm(config_file)\n",
    "run_simulation_for_n_steps(b, parameters, n_steps)\n",
    "show_swarm(config_file, system=(b, parameters), title=\"Swarm state after $(n_steps) steps\", savedfigure=\"$(config)_step_$(n_steps)_new.pdf\")"
   ]
  },
  {
   "cell_type": "code",
   "execution_count": null,
   "id": "35196dff-76b1-464d-80aa-1ae6ef8286df",
   "metadata": {},
   "outputs": [],
   "source": [
    "show_swarm(\"../config/base_hole_370.json\", title=\"Initial swarm state\", savedfigure=\"base_hole_370_init_new.pdf\")"
   ]
  },
  {
   "cell_type": "code",
   "execution_count": null,
   "id": "38548f47",
   "metadata": {},
   "outputs": [],
   "source": [
    "n_steps = 2000\n",
    "config = \"base_hole_370\"\n",
    "config_file = \"../config/$(config).json\"\n",
    "b, parameters = load_swarm(config_file)\n",
    "run_simulation_for_n_steps(b, parameters, n_steps)\n",
    "show_swarm(config_file, system=(b, parameters), title=\"Swarm state after $(n_steps) steps\", savedfigure=\"$(config)_step_$(n_steps)_new.pdf\")"
   ]
  },
  {
   "cell_type": "code",
   "execution_count": null,
   "id": "0dc61a26-b523-42c3-85c9-7583a79693a7",
   "metadata": {},
   "outputs": [],
   "source": [
    "n_steps = 2000\n",
    "config = \"gap_fill_no_rgf_hole_370\"\n",
    "config_file = \"../config/$(config).json\"\n",
    "b, parameters = load_swarm(config_file)\n",
    "run_simulation_for_n_steps(b, parameters, n_steps)\n",
    "show_swarm(config_file, system=(b, parameters), title=\"Swarm state after $(n_steps) steps\", xlims=(-25, 20), ylims=(-25, 20), step=5, savedfigure=\"$(config)_step_$(n_steps)_new.pdf\")"
   ]
  },
  {
   "cell_type": "code",
   "execution_count": null,
   "id": "d490a4a7-3a13-4831-b235-f77eb4e247ba",
   "metadata": {},
   "outputs": [],
   "source": [
    "n_steps = 2000\n",
    "config = \"gap_fill_with_rgf_hole_370\"\n",
    "config_file = \"../config/$(config).json\"\n",
    "b, parameters = load_swarm(config_file)\n",
    "run_simulation_for_n_steps(b, parameters, n_steps)\n",
    "show_swarm(config_file, system=(b, parameters), title=\"Swarm state after $(n_steps) steps\", savedfigure=\"$(config)_step_$(n_steps)_new.pdf\")"
   ]
  },
  {
   "cell_type": "code",
   "execution_count": null,
   "id": "f3986866-7e3e-4a41-9f91-ba150499ddc3",
   "metadata": {},
   "outputs": [],
   "source": [
    "n_steps = 2000\n",
    "config = \"outer_400\"\n",
    "config_file = \"../config/$(config).json\"\n",
    "b, parameters = load_swarm(config_file)\n",
    "run_simulation_for_n_steps(b, parameters, n_steps)\n",
    "show_swarm(config_file, system=(b, parameters), title=\"Swarm state after $(n_steps) steps\", savedfigure=\"$(config)_step_$(n_steps)_new.pdf\")"
   ]
  },
  {
   "cell_type": "code",
   "execution_count": null,
   "id": "dfa76778-09e5-4584-b35d-48d00228de7b",
   "metadata": {},
   "outputs": [],
   "source": [
    "n_steps = 2000\n",
    "config = \"inner_400\"\n",
    "config_file = \"../config/$(config).json\"\n",
    "b, parameters = load_swarm(config_file)\n",
    "run_simulation_for_n_steps(b, parameters, n_steps)\n",
    "show_swarm(config_file, system=(b, parameters), title=\"Swarm state after $(n_steps) steps\", savedfigure=\"$(config)_step_$(n_steps)_new.pdf\")"
   ]
  },
  {
   "cell_type": "code",
   "execution_count": null,
   "id": "60e60bc0",
   "metadata": {},
   "outputs": [],
   "source": [
    "b, parameters = load_swarm(\"../config/inner_400.json\")\n",
    "for i in 1:2000\n",
    "    compute_step(b; parameters...)\n",
    "    apply_step(b)\n",
    "end\n",
    "prm = findall(b[:,SM.PRM] .> 0.)\n",
    "scatter(b[:,SM.POS_X],b[:,SM.POS_Y]; legend=false, markersize=2, markercolor=:black, aspect_ratio=:equal)\n",
    "scatter!(b[prm,SM.POS_X],b[prm,SM.POS_Y]; legend=false, markersize=2, markercolor=:red, aspect_ratio=:equal)"
   ]
  },
  {
   "cell_type": "code",
   "execution_count": null,
   "id": "54e6424b",
   "metadata": {},
   "outputs": [],
   "source": [
    "plot_mean_distances(\"../config/base_400.json\", n_steps=2000)"
   ]
  },
  {
   "cell_type": "code",
   "execution_count": null,
   "id": "f237d5c0",
   "metadata": {},
   "outputs": [],
   "source": [
    "plot_mean_distances(\"../config/base_hole_370.json\", n_steps=2000)"
   ]
  },
  {
   "cell_type": "code",
   "execution_count": null,
   "id": "d7fd0c4b",
   "metadata": {},
   "outputs": [],
   "source": [
    "plot_mean_distances(\"../config/gap_fill_no_rgf_hole_370.json\", n_steps=2000)"
   ]
  },
  {
   "cell_type": "code",
   "execution_count": null,
   "id": "dbc43635",
   "metadata": {},
   "outputs": [],
   "source": [
    "plot_mean_distances(\"../config/gap_fill_with_rgf_hole_370.json\", n_steps=2000)"
   ]
  },
  {
   "cell_type": "code",
   "execution_count": null,
   "id": "478030c2",
   "metadata": {},
   "outputs": [],
   "source": [
    "plot_mean_distances(\"../config/inner_400.json\", n_steps=2000, with_stdev=true)"
   ]
  },
  {
   "cell_type": "code",
   "execution_count": null,
   "id": "aa6a7ccd",
   "metadata": {},
   "outputs": [],
   "source": [
    "plot_mean_distances(\"../config/outer_400.json\", n_steps=2000, with_stdev=true)"
   ]
  },
  {
   "cell_type": "code",
   "execution_count": null,
   "id": "ca53fee6",
   "metadata": {},
   "outputs": [],
   "source": [
    "plot_mean_distances(\"../config/outer_400.json\", n_steps=2000, with_stdev=true, pre_p=true)"
   ]
  },
  {
   "cell_type": "markdown",
   "id": "1cd9d1c7",
   "metadata": {},
   "source": [
    "## Animation examples"
   ]
  },
  {
   "cell_type": "code",
   "execution_count": null,
   "id": "39caa657",
   "metadata": {},
   "outputs": [],
   "source": [
    "b, parameters = load_swarm(\"../config/gap_fill_with_rgf_hole_370.json\")\n",
    "@gif for i in 1:2000\n",
    "    compute_step(b; parameters...)\n",
    "    apply_step(b)\n",
    "    prm = findall(b[:,SM.PRM] .> 0.)\n",
    "    scatter(b[:,SM.POS_X],b[:,SM.POS_Y]; legend=false, markersize=3, markercolor=:black, aspect_ratio=:equal)\n",
    "    scatter!(b[prm,SM.POS_X],b[prm,SM.POS_Y]; legend=false, markersize=3, markercolor=:red, aspect_ratio=:equal, annotationfontsize=10, annotations=(20, 15, lpad(i, 5, \"0\")))    \n",
    "end\n"
   ]
  },
  {
   "cell_type": "code",
   "execution_count": null,
   "id": "5b434100",
   "metadata": {},
   "outputs": [],
   "source": [
    "b, parameters = load_swarm(\"../config/gap_fill_with_rgf_hole_370.json\")\n",
    "parameters[:gain] = 0.0008\n",
    "@gif for i in 1:2000\n",
    "    compute_step(b; parameters...)\n",
    "    apply_step(b)\n",
    "    prm = findall(b[:,SM.PRM] .> 0.)\n",
    "    scatter(b[:,SM.POS_X],b[:,SM.POS_Y]; legend=false, markersize=3, markercolor=:black, aspect_ratio=:equal)\n",
    "    scatter!(b[prm,SM.POS_X],b[prm,SM.POS_Y]; legend=false, markersize=3, markercolor=:red, aspect_ratio=:equal, annotationfontsize=10, annotations=(20, 15, lpad(i, 5, \"0\")))    \n",
    "end"
   ]
  },
  {
   "cell_type": "markdown",
   "id": "619ac1d0",
   "metadata": {},
   "source": [
    "## Linear Control Examples"
   ]
  },
  {
   "cell_type": "markdown",
   "id": "2f50584b",
   "metadata": {},
   "source": [
    "### Successes"
   ]
  },
  {
   "cell_type": "code",
   "execution_count": null,
   "id": "9050a501",
   "metadata": {},
   "outputs": [],
   "source": [
    "b, parameters = load_swarm(\"../config/gap_fill_with_rgf_hole_370.json\")\n",
    "parameters[:gain] = 0.0008\n",
    "for i in 1:40000\n",
    "    compute_step(b; parameters...)\n",
    "    apply_step(b)\n",
    "end\n",
    "prm = findall(b[:,SM.PRM] .> 0.)\n",
    "scatter(b[:,SM.POS_X],b[:,SM.POS_Y]; legend=false, markersize=2, markercolor=:black, aspect_ratio=:equal)\n",
    "scatter!(b[prm,SM.POS_X],b[prm,SM.POS_Y]; legend=false, markersize=2, markercolor=:red, aspect_ratio=:equal)"
   ]
  },
  {
   "cell_type": "code",
   "execution_count": null,
   "id": "68e39142",
   "metadata": {},
   "outputs": [],
   "source": [
    "plot_mean_distances(\"../config/gap_fill_with_rgf_hole_370.json\", n_steps=40000, with_stdev=true, overrides=Dict(:gain => 0.0008))"
   ]
  },
  {
   "cell_type": "code",
   "execution_count": null,
   "id": "5e3ec63f",
   "metadata": {},
   "outputs": [],
   "source": [
    "b, parameters = load_swarm(\"../config/inner_400.json\")\n",
    "parameters[:gain] = 0.0008\n",
    "for i in 1:20000\n",
    "    compute_step(b; parameters...)\n",
    "    apply_step(b)\n",
    "end\n",
    "prm = findall(b[:,SM.PRM] .> 0.)\n",
    "scatter(b[:,SM.POS_X],b[:,SM.POS_Y]; legend=false, markersize=2, markercolor=:black, aspect_ratio=:equal)\n",
    "scatter!(b[prm,SM.POS_X],b[prm,SM.POS_Y]; legend=false, markersize=2, markercolor=:red, aspect_ratio=:equal)"
   ]
  },
  {
   "cell_type": "code",
   "execution_count": null,
   "id": "1849d55f",
   "metadata": {},
   "outputs": [],
   "source": [
    "plot_mean_distances(\"../config/inner_400.json\", n_steps=20000, with_stdev=true, overrides=Dict(:gain => 0.0008))"
   ]
  },
  {
   "cell_type": "markdown",
   "id": "45204133",
   "metadata": {},
   "source": [
    "The examples of `gap_fill_with_rgf_hole_370` and `inner_400` show that linear control can achieve good, stable swarm structures using a gain of 0.0008 with all other parameters as before. "
   ]
  },
  {
   "cell_type": "markdown",
   "id": "fbf1031f",
   "metadata": {},
   "source": [
    "### A problem: `outer_400`\n",
    "\n",
    "The next example, `outer_400`, looks less promising so far. The swarm structure graph below shows the swarm structure after 20000 steps, with gain of 0.0008 and other parameters left as before. The swarm becomes much more highly compressed and rather distorted."
   ]
  },
  {
   "cell_type": "code",
   "execution_count": null,
   "id": "ea6b5995",
   "metadata": {},
   "outputs": [],
   "source": [
    "b, parameters = load_swarm(\"../config/outer_400.json\")\n",
    "parameters[:gain] = 0.0008\n",
    "for i in 1:20000\n",
    "    compute_step(b; parameters...)\n",
    "    apply_step(b)\n",
    "end\n",
    "prm = findall(b[:,SM.PRM] .> 0.)\n",
    "scatter(b[:,SM.POS_X],b[:,SM.POS_Y]; legend=false, markersize=2, markercolor=:black, aspect_ratio=:equal)\n",
    "scatter!(b[prm,SM.POS_X],b[prm,SM.POS_Y]; legend=false, markersize=2, markercolor=:red, aspect_ratio=:equal)"
   ]
  },
  {
   "cell_type": "markdown",
   "id": "9f652c46",
   "metadata": {},
   "source": [
    "The knn-distance graph shows that the perimeter classes do settle down to something reasonably stable. Notice that pre-computation of the perimeter is required to get a sensible distance graph. The `boundary` parameter is used to select the cut-off point at which agents should be identified as perimeter agents. The boundary value used for this graph is 20, i.e. if an agent is identified as a perimeter agent in at least 20% (`boundary=20`) of the steps then it is classified as a perimeter agent. "
   ]
  },
  {
   "cell_type": "code",
   "execution_count": null,
   "id": "8d83b46a",
   "metadata": {},
   "outputs": [],
   "source": [
    "plot_mean_distances(\"../config/outer_400.json\", n_steps=20000, with_stdev=true, pre_p=true, boundary=20, saved_figure=true, overrides=Dict(:gain => 0.0008))"
   ]
  },
  {
   "cell_type": "markdown",
   "id": "fd0e5b1b",
   "metadata": {},
   "source": [
    "A boundary value of 20 seems like a low cut-off value. It is much lower than our usual value (`boundary=50`). However, the swarm structure graph below shows that in this case a boundary value of 20 is appropriate, as it identifies all, and only, those agents that would be identified as 'on the perimeter' by a human observer."
   ]
  },
  {
   "cell_type": "code",
   "execution_count": null,
   "id": "4c956415",
   "metadata": {},
   "outputs": [],
   "source": [
    "b1, parameters1 = load_swarm(\"../config/outer_400.json\")\n",
    "parameters1[:gain] = 0.0008\n",
    "p = MS.agent_perimeter_status(b1, parameters1, n_steps=20000, boundary=20)\n",
    "prm = findall(p .== 2)\n",
    "scatter(b[:,SM.POS_X],b[:,SM.POS_Y]; legend=false, markersize=2, markercolor=:black, aspect_ratio=:equal)\n",
    "scatter!(b[prm,SM.POS_X],b[prm,SM.POS_Y]; legend=false, markersize=2, markercolor=:red, aspect_ratio=:equal)"
   ]
  },
  {
   "cell_type": "markdown",
   "id": "df4ad13c",
   "metadata": {},
   "source": [
    "The distance graph below gives the results when a boundary value of 50 is used for this example. It can be seen that only the $(S_i, S_i)$ class of agents is present in the graph. This is because a boundary value of 50 identifies _no_ agents as perimeter agents, suggesting that the perimeter is highly unstable."
   ]
  },
  {
   "cell_type": "code",
   "execution_count": null,
   "id": "570123dd",
   "metadata": {},
   "outputs": [],
   "source": [
    "plot_mean_distances(\"../config/outer_400.json\", n_steps=20000, with_stdev=true, pre_p=true, boundary=50, overrides=Dict(:gain => 0.0008))"
   ]
  },
  {
   "cell_type": "markdown",
   "id": "04628ffb",
   "metadata": {},
   "source": [
    "The final example shows an attempt to find some parameters to produce a well-structured swarm with a compact perimeter. This is the best I've been able to manage so far. It can be seen that the swarm is neither as well-structured, nor is its perimeter as compact, as in the normalised version. Maybe this is a prime target for a learning algorithm? Or perhaps you can find a better set of parameters?"
   ]
  },
  {
   "cell_type": "code",
   "execution_count": null,
   "id": "5dcd1d30",
   "metadata": {},
   "outputs": [],
   "source": [
    "b, parameters = load_swarm(\"../config/outer_400.json\")\n",
    "parameters[:kd] = [0.,0.]\n",
    "parameters[:gain] = 0.0008\n",
    "parameters[:kc] = [0.15 5.0; 0.15 75.0]\n",
    "parameters[:kr] = [20.0 2.0; 100.0 75.0]\n",
    "parameters[:kg] = 350\n",
    "for i in 1:60000\n",
    "    compute_step(b; parameters...)\n",
    "    apply_step(b)\n",
    "end\n",
    "prm = findall(b[:,SM.PRM] .> 0.)\n",
    "scatter(b[:,SM.POS_X],b[:,SM.POS_Y]; legend=false, markersize=2, markercolor=:black, aspect_ratio=:equal)\n",
    "scatter!(b[prm,SM.POS_X],b[prm,SM.POS_Y]; legend=false, markersize=2, markercolor=:red, aspect_ratio=:equal, )\n",
    "#annotationfontsize=10, annotations=(20, 10, lpad(i, 5, \"0\"))"
   ]
  },
  {
   "cell_type": "code",
   "execution_count": null,
   "id": "2c3e51bf",
   "metadata": {},
   "outputs": [],
   "source": [
    "plot_mean_distances(\"../config/outer_400.json\", n_steps=60000, with_stdev=true, pre_p=true, boundary=20, \n",
    "                    overrides=Dict(:kc => [0.15 5.0; 0.15 75.0], :kd => [0.,0.], :kr => [20.0 2.0; 100.0 75.0], :kg => 350, :gain => 0.0008))"
   ]
  },
  {
   "cell_type": "code",
   "execution_count": null,
   "id": "5560e28e",
   "metadata": {},
   "outputs": [],
   "source": [
    "b, parameters = load_swarm(\"../config/outer_400.json\")\n",
    "parameters[:gain] = 0.0008\n",
    "parameters[:kc] = [0.15 5.0; 0.15 75.0]\n",
    "parameters[:kr] = [20.0 2.0; 100.0 75.0]\n",
    "parameters[:kg] = 350\n",
    "parameters[:kd] = [0., 0.]\n",
    "@gif for i in 1:2000\n",
    "    compute_step(b; parameters...)\n",
    "    apply_step(b)\n",
    "    prm = findall(b[:,SM.PRM] .> 0.)\n",
    "    scatter(b[:,SM.POS_X],b[:,SM.POS_Y]; legend=false, markersize=2, markercolor=:black, aspect_ratio=:equal)\n",
    "    scatter!(b[prm,SM.POS_X],b[prm,SM.POS_Y]; legend=false, markersize=2, markercolor=:red, aspect_ratio=:equal, annotationfontsize=10, annotations=(16, 10, lpad(i, 5, \"0\")))\n",
    "end\n"
   ]
  },
  {
   "cell_type": "markdown",
   "id": "cb27ce53",
   "metadata": {},
   "source": [
    "## Rotational vector"
   ]
  },
  {
   "cell_type": "code",
   "execution_count": null,
   "id": "0e9f60a7-409a-432c-a2bb-2d04eacb0ab5",
   "metadata": {},
   "outputs": [],
   "source": [
    "n_steps = 10000\n",
    "config = \"low_density_400\"\n",
    "config_file = \"../config/$(config).json\"\n",
    "b, parameters = load_swarm(config_file)\n",
    "b[:,SM.GOAL_X:SM.GOAL_Y] .= [0.0 0.0]\n",
    "run_simulation_for_n_steps(b, parameters, n_steps)\n",
    "show_swarm(config_file, system=(b, parameters), goal=[0 0], title=\"Swarm state after $(n_steps) steps\", xlims=(-150,150), ylims=(-150,150), step=25, \n",
    "           xmargin=5, ymargin=5, xtick_rotation=45, compute=false, with_params=false, savedfigure=\"$(config)_step_$(n_steps)_new.pdf\")"
   ]
  },
  {
   "cell_type": "code",
   "execution_count": null,
   "id": "828760aa",
   "metadata": {},
   "outputs": [],
   "source": [
    "b, parameters = load_swarm(\"../config/low_density_400.json\")\n",
    "# parameters[:rb] = [16.0 16.0; 16.0 16.0]\n",
    "# parameters[:cb] = 20.0\n",
    "# parameters[:kc] = [0.25 0.075; 0.15 0.15]\n",
    "# parameters[:kr] = [120.0 50.0; 120.0 50.0]\n",
    "# parameters[:kd] = [0.2, 0.2]\n",
    "# parameters[:ka] = [0.0, 15.0]\n",
    "# parameters[:kg] = 150.0\n",
    "# parameters[:rgf] = true\n",
    "# parameters[:speed] = 0.005\n",
    "b[:,SM.GOAL_X:SM.GOAL_Y] .= [0.0 0.0]\n",
    "# parameters[:kr] = [150 50; 200 50]\n",
    "# parameters[:ka] = [0, 150.0]\n",
    "for i in 1:10000\n",
    "    compute_step(b; parameters...)\n",
    "    apply_step(b)\n",
    "end\n",
    "prm = findall(b[:,SM.PRM] .> 0.)\n",
    "_prm = setdiff(1:size(b)[1], prm)\n",
    "# scatter(b[_prm,SM.POS_X],b[_prm,SM.POS_Y]; title=\"Swarm state after 10000 steps - low_density_400\\n C:20.0 R:[[16.0, 16.0],[16.0, 16.0]]\\n kc:[[0.25 0.075],[0.15,0.15]]\\n kr:[[120.0, 50.0],[120.0,50.0]]\\n kd:[0.2, 0.2] ka:[0.0, 15.0] kg:150.0 rgf:true\", titlefontsize=8, labelfontsize=8, xtickfontrotation=45, legend=false, markersize=1, markercolor=:black, aspect_ratio=:equal, xlabel=\"POS_X\", ylabel=\"POS_Y\", xticks=[n for n in -150:25:150], yticks=[n for n in -150:25:150], framestyle=:box, size=(336,336))\n",
    "scatter(b[_prm,SM.POS_X],b[_prm,SM.POS_Y]; title=\"Swarm state after 10000 steps - low_density_400\", titlefontsize=8, labelfontsize=8, xtickfontrotation=45, \n",
    "        legend=false, markersize=1, markercolor=:black, aspect_ratio=:equal, xlabel=\"POS_X\", ylabel=\"POS_Y\", xticks=[n for n in -150:25:150], yticks=[n for n in -150:25:150], \n",
    "        framestyle=:box, size=(336,336))\n",
    "scatter!(b[prm,SM.POS_X],b[prm,SM.POS_Y]; legend=false, markersize=1, markercolor=:red, markerstrokecolor=:red, aspect_ratio=:equal)\n",
    "plot!([b[:,SM.GOAL_X][1]], [b[:,SM.GOAL_Y][1]], markershape=:cross, markersize=4)\n",
    "savefig(\"low_density_400_step_10000.pdf\")"
   ]
  },
  {
   "cell_type": "code",
   "execution_count": null,
   "id": "71df60ac-45d7-47ee-98ff-b5b8d8ef332e",
   "metadata": {},
   "outputs": [],
   "source": [
    "MS.centroid(b), MS.radius(b), MS.area(b), MS.density(b), 1 / MS.density(b)"
   ]
  },
  {
   "cell_type": "code",
   "execution_count": null,
   "id": "acb9bcd0-5b11-4d43-8fe0-96edd70626fc",
   "metadata": {},
   "outputs": [],
   "source": [
    "config = \"low_density_360\"\n",
    "config_file = \"../config/$(config).json\"\n",
    "failed = sort([324, 340, 231, 281, 132, 205, 13, 390, 122, 241, 59, 153, 126, 343, 211, 379, 105, 167, 273, 275, 193, 79, 121, 227, 302, 252, 83, 253, 367, 84, 11, 293, 98, 111, 68, 348, 41, 169, 352, 113])\n",
    "b_ = [b[a,:] for a in 1:size(b)[1] if a ∉ failed]\n",
    "b = collect(transpose(reshape(collect(Iterators.flatten(b_)),(20,360))))\n",
    "show_swarm(config_file, system=(b, parameters), goal=[0 0], title=\"Swarm state after failure\", xlims=(-150,150), ylims=(-150,150), step=25, \n",
    "           xmargin=5, ymargin=5, xtick_rotation=45, compute=false, with_params=false, savedfigure=\"$(config)_after_failure_new.pdf\")"
   ]
  },
  {
   "cell_type": "code",
   "execution_count": null,
   "id": "5f069556-ef9d-4d49-b62a-9e191cfed6d9",
   "metadata": {},
   "outputs": [],
   "source": [
    "failed = sort([324, 340, 231, 281, 132, 205, 13, 390, 122, 241, 59, 153, 126, 343, 211, 379, 105, 167, 273, 275, 193, 79, 121, 227, 302, 252, 83, 253, 367, 84, 11, 293, 98, 111, 68, 348, 41, 169, 352, 113])\n",
    "#failed = sort([146, 340, 373, 21, 385, 231, 195, 281, 104, 399, 121, 70, 295, 122, 241, 105, 83, 334, 379, 200, 293, 302, 59, 167, 252, 98, 11, 253, 68, 238, 352, 348, 91, 41, 296, 156, 113, 367, 345])\n",
    "# failed = sort([146, 340, 373, 21, 385, 231, 195, 281, 104, 399, 121, 70, 295, 122, 241, 105, 83, 334, 379, 200, 293, 302, 59, 167, 252, 98, 11, 253, 68, 238, 352, 348, 27, 41, 296, 156, 268, 132, 77, 345])\n",
    "# failed = sort([393, 399, 241, 273, 330, 150, 275, 109, 46, 240, 274, 9, 171, 349, 347, 50, 136, 343, 227, 200, 379, 79, 314, 362, 107, 334, 135, 121, 27, 293, 302, 111, 62, 256, 105, 68, 83, 64, 352, 131])\n",
    "b_ = [b[a,:] for a in 1:size(b)[1] if a ∉ failed]\n",
    "b = collect(transpose(reshape(collect(Iterators.flatten(b_)),(20,360))))\n",
    "prm = findall(b[:,SM.PRM] .> 0.)\n",
    "_prm = setdiff(1:size(b)[1], prm)\n",
    "scatter(b[_prm,SM.POS_X],b[_prm,SM.POS_Y]; title=\"Swarm state after agent failure - low_density_360\", titlefontsize=8, labelfontsize=8, xtickfontrotation=45, legend=false, markersize=1, markercolor=:black, aspect_ratio=:equal, xlabel=\"POS_X\", ylabel=\"POS_Y\", xticks=[n for n in -150:25:150], yticks=[n for n in -150:25:150], framestyle=:box, size=(336,336))\n",
    "scatter!(b[prm,SM.POS_X],b[prm,SM.POS_Y]; legend=false, markersize=1, markercolor=:red, markerstrokecolor=:red, aspect_ratio=:equal)\n",
    "plot!([b[:,SM.GOAL_X][1]], [b[:,SM.GOAL_Y][1]], markershape=:cross, markersize=4)\n",
    "# scatter(b[_prm,SM.POS_X],b[_prm,SM.POS_Y]; title=\"Swarm state after agent failure - low_density_360\\n C:20.0 R:[[16.0, 16.0],[16.0, 16.0]]\\n kc:[[0.25 0.15],[0.15,0.15]]\\n kr:[[120.0, 50.0],[120.0,50.0]]\\n kd:[0.2, 0.2] ka:[0.0, 15.0] kg:150.0 rgf:true\", titlefontsize=8, labelfontsize=8, xtickfontrotation=45, legend=false, markersize=1, markercolor=:black, aspect_ratio=:equal, xlabel=\"POS_X\", ylabel=\"POS_Y\", xticks=[n for n in -150:25:150], yticks=[n for n in -150:25:150], framestyle=:box, size=(336,336))\n",
    "# scatter!(b[prm,SM.POS_X],b[prm,SM.POS_Y]; legend=false, markersize=1, markercolor=:red, markerstrokecolor=:red, aspect_ratio=:equal)\n",
    "# plot!([b[:,SM.GOAL_X][1]], [b[:,SM.GOAL_Y][1]], markershape=:cross, markersize=4)\n",
    "# scatter(b[_prm,SM.POS_X],b[_prm,SM.POS_Y]; title=\"Swarm state after agent failure - low_density_360\\n C:12.0 R:[[8.0, 8.0],[8.0, 9.0]]\\n kr:[[150.0, 50.0],[150.0,50.0]]\\n kd:[0.15, 0.15] ka:[0.0, 10.0] kg:200.0 rgf:true\", titlefontsize=8, labelfontsize=8, legend=false, markersize=1, markercolor=:black, aspect_ratio=:equal, xlabel=\"POS_X\", ylabel=\"POS_Y\", xticks=[n for n in -75:25:75], yticks=[n for n in -75:25:75], framestyle=:box, size=(336,336))\n",
    "# scatter!(b[prm,SM.POS_X],b[prm,SM.POS_Y]; legend=false, markersize=1, markercolor=:red, markerstrokecolor=:red, aspect_ratio=:equal)\n",
    "# plot!([b[:,SM.GOAL_X][1]], [b[:,SM.GOAL_Y][1]], markershape=:cross, markersize=4)\n",
    "savefig(\"low_density_360_after_failure.pdf\")"
   ]
  },
  {
   "cell_type": "code",
   "execution_count": null,
   "id": "2bdd3817-105d-429d-8e1d-2e0f618bd149",
   "metadata": {},
   "outputs": [],
   "source": [
    "n_steps = 5000\n",
    "config = \"low_density_360\"\n",
    "config_file = \"../config/$(config).json\"\n",
    "run_simulation_for_n_steps(b, parameters, n_steps)\n",
    "show_swarm(config_file, system=(b, parameters), goal=[0 0], title=\"Swarm state after recovery\", xlims=(-150,150), ylims=(-150,150), step=25, \n",
    "           xmargin=5, ymargin=5, xtick_rotation=45, compute=false, with_params=false, savedfigure=\"$(config)_step_$(n_steps)_new.pdf\")"
   ]
  },
  {
   "cell_type": "code",
   "execution_count": null,
   "id": "858f32c3-275a-47fc-bd1c-bb0e325c7bf0",
   "metadata": {},
   "outputs": [],
   "source": [
    "for i in 1:5000\n",
    "    compute_step(b; parameters...)\n",
    "    apply_step(b)\n",
    "end\n",
    "prm = findall(b[:,SM.PRM] .> 0.)\n",
    "_prm = setdiff(1:size(b)[1], prm)\n",
    "scatter(b[_prm,SM.POS_X],b[_prm,SM.POS_Y]; title=\"Swarm state after recovery - low_density_360\", titlefontsize=8, labelfontsize=8, xtickfontrotation=45, legend=false, markersize=1, markercolor=:black, aspect_ratio=:equal, xlabel=\"POS_X\", ylabel=\"POS_Y\", xticks=[n for n in -150:25:150], yticks=[n for n in -150:25:150], framestyle=:box, size=(336,336))\n",
    "scatter!(b[prm,SM.POS_X],b[prm,SM.POS_Y]; legend=false, markersize=1, markercolor=:red, markerstrokecolor=:red, aspect_ratio=:equal)\n",
    "plot!([b[:,SM.GOAL_X][1]], [b[:,SM.GOAL_Y][1]], markershape=:cross, markersize=4)\n",
    "# scatter(b[_prm,SM.POS_X],b[_prm,SM.POS_Y]; title=\"Swarm state after 10000 steps - low_density_360\\n C:12.0 R:[[8.0, 8.0],[8.0, 9.0]]\\n kr:[[150.0, 50.0],[150.0,50.0]]\\n kd:[0.15, 0.15] ka:[0.0, 10.0] kg:200.0 rgf:true\", titlefontsize=8, labelfontsize=8, legend=false, markersize=1, markercolor=:black, aspect_ratio=:equal, xlabel=\"POS_X\", ylabel=\"POS_Y\", xticks=[n for n in -75:25:75], yticks=[n for n in -75:25:75], framestyle=:box, size=(336,336))\n",
    "# scatter!(b[prm,SM.POS_X],b[prm,SM.POS_Y]; legend=false, markersize=1, markercolor=:red, markerstrokecolor=:red, aspect_ratio=:equal)\n",
    "# plot!([b[:,SM.GOAL_X][1]], [b[:,SM.GOAL_Y][1]], markershape=:cross, markersize=4)\n",
    "savefig(\"low_density_360_step_5000.pdf\")"
   ]
  },
  {
   "cell_type": "code",
   "execution_count": null,
   "id": "dfa7c0a4-5eee-4052-ba8a-ae975a981e43",
   "metadata": {},
   "outputs": [],
   "source": [
    "MS.centroid(b), MS.radius(b), MS.area(b), MS.density(b)"
   ]
  },
  {
   "cell_type": "code",
   "execution_count": null,
   "id": "295ed516-6b3a-421c-a08a-e01913b0d4ac",
   "metadata": {},
   "outputs": [],
   "source": [
    "49638/54344"
   ]
  },
  {
   "cell_type": "code",
   "execution_count": null,
   "id": "83ccf58d-afd3-475d-bf6a-8eda80bc642a",
   "metadata": {},
   "outputs": [],
   "source": [
    "plot_mean_distances(\"../config/low_density_400.json\", goal=[0.0 0.0], n_steps=15000, failure=(10000, failed), with_stdev=true, \n",
    "    # plotargs=Dict(:legend=>:bottomright,:ylims=>[0,18], :framestyle=>:box, :top_margin=>20mm)\n",
    ")"
   ]
  },
  {
   "cell_type": "code",
   "execution_count": null,
   "id": "895c6466-5785-4438-93dc-e9ff199db0d6",
   "metadata": {},
   "outputs": [],
   "source": [
    "b, parameters = load_swarm(\"../config/low_density_400.json\")\n",
    "b[:,SM.GOAL_X:SM.GOAL_Y] .= [0.0 0.0]\n",
    "# parameters[:kc] = [0.25 0.075; 0.15 0.15]\n",
    "\n",
    "# parameters[:rb] = [16.0 16.0; 16.0 16.0]\n",
    "# parameters[:cb] = 20.0\n",
    "# parameters[:kc] = [0.25 0.15; 0.15 0.15]\n",
    "# parameters[:kr] = [120.0 50.0; 120.0 50.0]\n",
    "# parameters[:kd] = [0.2, 0.2]\n",
    "# parameters[:ka] = [0.0, 15.0]\n",
    "# parameters[:kg] = 150.0\n",
    "# parameters[:rgf] = true\n",
    "\n",
    "\n",
    "# b[:,SM.GOAL_X:SM.GOAL_Y] .= [10.0 10.0]\n",
    "# parameters[:kr] = [150 50; 200 50]\n",
    "# parameters[:ka] = [0, 150.0]\n",
    "n_steps = 10000\n",
    "min_dist = Array{Float64, 1}(undef, n_steps)\n",
    "for i in 1:n_steps\n",
    "    _, _, mag, p = compute_step(b; parameters...)\n",
    "    min_dist[i] = minimum(mag)\n",
    "    apply_step(b)\n",
    "end\n",
    "plot(1:n_steps, min_dist)"
   ]
  },
  {
   "cell_type": "code",
   "execution_count": null,
   "id": "2fcdd0f4-edbd-478c-aed9-543152fd363c",
   "metadata": {},
   "outputs": [],
   "source": [
    "minimum(min_dist)"
   ]
  },
  {
   "cell_type": "code",
   "execution_count": null,
   "id": "b2ba6205-7de2-4ac5-9d14-64b16250f49e",
   "metadata": {},
   "outputs": [],
   "source": [
    "minimum(min_dist)"
   ]
  },
  {
   "cell_type": "code",
   "execution_count": null,
   "id": "f8ed909b-1b61-4c7d-beee-131cc97dae84",
   "metadata": {},
   "outputs": [],
   "source": [
    "b, parameters = load_swarm(\"../config/low_density_400.json\")\n",
    "b[:,SM.GOAL_X:SM.GOAL_Y] .= [0.0 0.0]\n",
    "# parameters[:kc] = [0.25 0.075; 0.15 0.15]\n",
    "\n",
    "# parameters[:rb] = [16.0 16.0; 16.0 16.0]\n",
    "# parameters[:cb] = 20.0\n",
    "# parameters[:kc] = [0.25 0.15; 0.15 0.15]\n",
    "# parameters[:kr] = [120.0 50.0; 120.0 50.0]\n",
    "# parameters[:kd] = [0.2, 0.2]\n",
    "# parameters[:ka] = [0.0, 15.0]\n",
    "# parameters[:kg] = 150.0\n",
    "# parameters[:rgf] = true\n",
    "\n",
    "# parameters[:rb] = [16.0 16.0; 16.0 16.0]\n",
    "# parameters[:cb] = 20.0\n",
    "# parameters[:kc] = [0.15 0.015; 0.015 0.15]\n",
    "# parameters[:kr] = [150.0 50.0; 150.0 50.0]\n",
    "# parameters[:kd] = [0.2, 0.2]\n",
    "# parameters[:ka] = [0.0, 15.0]\n",
    "# parameters[:kg] = 150.0\n",
    "# parameters[:rgf] = true\n",
    "# parameters[:speed] = 0.005\n",
    "# parameters[:rb] = [16.0 16.0; 16.0 16.0]\n",
    "# parameters[:cb] = 20.0\n",
    "# parameters[:kr] = [150.0 50.0; 100.0 50.0]\n",
    "# parameters[:kd] = [0.2, 0.2]\n",
    "# parameters[:ka] = [0.0, 15.0]\n",
    "# parameters[:kg] = 150.0\n",
    "# parameters[:rgf] = true\n",
    "# parameters[:speed] = 0.005\n",
    "\n",
    "# parameters[:rb] = [8.0 8.0; 8.0 8.0]\n",
    "# parameters[:cb] = 10.0\n",
    "# parameters[:kr] = [150.0 50.0; 150.0 50.0]\n",
    "# parameters[:kd] = [0.2, 0.2]\n",
    "# parameters[:ka] = [0.0, 15]\n",
    "# parameters[:kg] = 150.0\n",
    "# parameters[:rgf] = true\n",
    "\n",
    "\n",
    "# parameters[:rb] = [8.0 8.0; 8.0 9.0]\n",
    "# parameters[:cb] = 12.0\n",
    "# parameters[:kr] = [150.0 50.0; 150.0 50.0]\n",
    "# parameters[:kd] = [0.15, 0.15]\n",
    "# parameters[:ka] = [0.0, 150.0]\n",
    "# parameters[:kg] = 200.0\n",
    "# parameters[:rgf] = true\n",
    "# parameters[:gain] = 0.0008\n",
    "gr()\n",
    "@gif for i in 1:15001\n",
    "    global b\n",
    "    compute_step(b; parameters...)\n",
    "    prm = findall(b[:,SM.PRM] .> 0.)\n",
    "    _prm = setdiff(1:size(b)[1], prm)\n",
    "    scatter(b[_prm,SM.POS_X],b[_prm,SM.POS_Y]; title=\"Stable state of low density relative to initial state\\n Rotating perimeter, self-healing\", titlefontsize=10, labelfontsize=8, legend=false, markersize=3, markercolor=:black, aspect_ratio=:equal, size=(672, 672), xlabel=\"POS_X\", ylabel=\"POS_Y\", xlims=[-150,150], ylims=[-150,150], xticks=[n for n in -150:25:150], yticks=[n for n in -150:25:150])\n",
    "    scatter!(b[prm,SM.POS_X],b[prm,SM.POS_Y]; legend=false, markersize=3, markercolor=:red, markerstrokecolor=:red, aspect_ratio=:equal, framestyle=:box, annotationfontsize=8, annotations=(125, 125, lpad(i-1, 5, \"0\")))\n",
    "    plot!([b[:,SM.GOAL_X][1]], [b[:,SM.GOAL_Y][1]], markershape=:cross, markersize=4)\n",
    "    apply_step(b)\n",
    "    if i == 10000\n",
    "        failed = sort([324, 340, 231, 281, 132, 205, 13, 390, 122, 241, 59, 153, 126, 343, 211, 379, 105, 167, 273, 275, 193, 79, 121, 227, 302, 252, 83, 253, 367, 84, 11, 293, 98, 111, 68, 348, 41, 169, 352, 113])\n",
    "        # failed = sort([146, 340, 373, 21, 385, 231, 195, 281, 104, 399, 121, 70, 295, 122, 241, 105, 83, 334, 379, 200, 293, 302, 59, 167, 252, 98, 11, 253, 68, 238, 352, 348, 27, 41, 296, 156, 268, 132, 77, 345])\n",
    "        # failed = sort([146, 340, 373, 21, 385, 231, 195, 281, 104, 399, 121, 70, 295, 122, 241, 105, 83, 334, 379, 200, 293, 302, 59, 167, 252, 98, 11, 253, 68, 238, 352, 348, 91, 41, 296, 156, 113, 256, 35, 18])\n",
    "        # failed = sort([393, 399, 241, 273, 330, 150, 275, 109, 46, 240, 274, 9, 171, 349, 347, 50, 136, 343, 227, 200, 379, 79, 314, 362, 107, 334, 135, 121, 27, 293, 302, 111, 62, 256, 105, 68, 83, 64, 352, 131])\n",
    "        b_ = [b[a,:] for a in 1:size(b)[1] if a ∉ failed]\n",
    "        b = collect(transpose(reshape(collect(Iterators.flatten(b_)),(SM.N_COLS, size(b)[1] - length(failed)))))\n",
    "    end\n",
    "end every 10"
   ]
  },
  {
   "cell_type": "code",
   "execution_count": null,
   "id": "abe2bd95-d847-4054-ab32-ce6f7e003aa5",
   "metadata": {},
   "outputs": [],
   "source": [
    "MS.centroid(b), MS.radius(b), MS.area(b), MS.density(b)"
   ]
  },
  {
   "cell_type": "code",
   "execution_count": null,
   "id": "4cde9871-ede6-47b8-a768-89a43cf6dac4",
   "metadata": {},
   "outputs": [],
   "source": [
    "b = SM.mk_rand_swarm(10, grid=√10)\n",
    "b[:,SM.GOAL_X:SM.GOAL_Y] .= [100.0 100.0]\n",
    "parameters = deepcopy(SM.default_swarm_params)\n",
    "parameters[:rb] = [96.0 96.0; 96.0 96.0]\n",
    "parameters[:cb] = 144.0\n",
    "parameters[:kr] = [150.0 50.0; 150.0 50.0]\n",
    "parameters[:kd] = [0.15, 0.15 ]\n",
    "parameters[:ka] = [0.0, 5.0]\n",
    "parameters[:ra] = [0.0, π/2]\n",
    "parameters[:kg] = 200.0\n",
    "parameters[:rgf] = true\n",
    "for i in 1:10000\n",
    "    compute_step(b; parameters...)\n",
    "    apply_step(b)\n",
    "end\n",
    "compute_step(b; parameters...)\n",
    "prm = findall(b[:,SM.PRM] .> 0.)\n",
    "_prm = setdiff(1:size(b)[1], prm)\n",
    "scatter(b[_prm,SM.POS_X],b[_prm,SM.POS_Y]; title=\"Rotation vectors\", titlefontsize=10, labelfontsize=8, legend=false, xlabel=\"POS_X\", ylabel=\"POS_Y\", markersize=3, markercolor=:black, aspect_ratio=:equal, size=(336, 336), xlims=[50, 150], ylims=[50, 150])\n",
    "scatter!(b[prm,SM.POS_X],b[prm,SM.POS_Y]; legend=false, markersize=3, markercolor=:red, markerstrokecolor=:red, aspect_ratio=:equal, framestyle=:box)\n",
    "plot!([b[:,SM.GOAL_X][1]], [b[:,SM.GOAL_Y][1]], markershape=:cross, markersize=4)\n",
    "for i in 1:10\n",
    "    # mdir = hypot(b[i,SM.DIR_X], b[i,SM.DIR_Y])\n",
    "    # madv = hypot(b[i,SM.ADV_X], b[i,SM.ADV_Y])\n",
    "    plot!([b[i,SM.POS_X], b[i,SM.POS_X] + b[i,SM.DIR_X]], [b[i,SM.POS_Y], b[i,SM.POS_Y] + b[i,SM.DIR_Y]], arrow=true, linecolor=:green)\n",
    "    plot!([b[i,SM.POS_X], b[i,SM.POS_X] + b[i,SM.ADV_X]], [b[i,SM.POS_Y], b[i,SM.POS_Y] + b[i,SM.ADV_Y]], arrow=true, linecolor=:blue )\n",
    "end"
   ]
  },
  {
   "cell_type": "code",
   "execution_count": null,
   "id": "15ef53ea-48ba-4c50-958e-0e076d3d38f2",
   "metadata": {},
   "outputs": [],
   "source": [
    "b = SM.mk_rand_swarm(10, grid=√10)\n",
    "b[:,SM.GOAL_X:SM.GOAL_Y] .= [100.0 100.0]\n",
    "parameters = deepcopy(SM.default_swarm_params)\n",
    "parameters[:rb] = [96.0 96.0; 96.0 96.0]\n",
    "parameters[:cb] = 144.0\n",
    "parameters[:kr] = [150.0 50.0; 150.0 50.0]\n",
    "parameters[:kd] = [0.15, 0.15 ]\n",
    "parameters[:ka] = [0.0, 5.0]\n",
    "parameters[:ra] = [0.0, π/2]\n",
    "parameters[:kg] = 200.0\n",
    "parameters[:rgf] = true\n",
    "n_steps = 10000\n",
    "run_simulation_for_n_steps(b, parameters, n_steps)\n",
    "config = \"rotation_vectors\"\n",
    "config_file = \"$(config).json\"\n",
    "fig, ax = show_swarm(\"\", system=(b,parameters), title=\"Rotation vectors\", goal=[100 100], xlims=(50, 150), ylims=(50,150), with_params=false, markersize=2)\n",
    "for i in 1:10\n",
    "    ax.arrow(b[i,SM.POS_X], b[i,SM.POS_Y], b[i,SM.DIR_X], b[i,SM.DIR_Y], width=0.0005, head_width=0.2, head_length=0.1, color=\"green\")\n",
    "    ax.arrow(b[i,SM.POS_X], b[i,SM.POS_Y], b[i,SM.ADV_X], b[i,SM.ADV_Y], width=0.0005, head_width=0.2, head_length=0.1, color=\"blue\")\n",
    "end\n",
    "plt.savefig(\"rotation_vectors_new.pdf\", bbox_inches=\"tight\")"
   ]
  },
  {
   "cell_type": "code",
   "execution_count": null,
   "id": "36f9275f-f4b3-4f91-a6ec-6378dfb0a9d6",
   "metadata": {},
   "outputs": [],
   "source": [
    "MS.centroid(b), MS.radius(b), MS.area(b), size(b)[1] / MS.area(b)"
   ]
  },
  {
   "cell_type": "code",
   "execution_count": null,
   "id": "4034b41d-68d6-472d-8e49-fa09ac49e065",
   "metadata": {},
   "outputs": [],
   "source": [
    "for i in 1:10\n",
    "    # mdir = hypot(b[i,SM.DIR_X], b[i,SM.DIR_Y])\n",
    "    # madv = hypot(b[i,SM.ADV_X], b[i,SM.ADV_Y])\n",
    "    plot!([b[i,SM.POS_X], b[i,SM.POS_X] + b[i,SM.DIR_X]], [b[i,SM.POS_Y], b[i,SM.POS_Y] + b[i,SM.DIR_Y]], arrow=true, linecolor=:green)\n",
    "    plot!([b[i,SM.POS_X], b[i,SM.POS_X] + b[i,SM.ADV_X]], [b[i,SM.POS_Y], b[i,SM.POS_Y] + b[i,SM.ADV_Y]], arrow=true, linecolor=:blue )\n",
    "end"
   ]
  },
  {
   "cell_type": "code",
   "execution_count": null,
   "id": "d7edffb2-3430-42a7-92a9-792e0a6c20e0",
   "metadata": {},
   "outputs": [],
   "source": [
    "savefig(\"rotation_vectors.pdf\")"
   ]
  },
  {
   "cell_type": "code",
   "execution_count": null,
   "id": "c501c284-e2a9-4216-978e-736404beb095",
   "metadata": {},
   "outputs": [],
   "source": [
    "gr()\n",
    "b = SM.mk_rand_swarm(10, grid=√10)\n",
    "b[:,SM.GOAL_X:SM.GOAL_Y] .= [100.0 100.0]\n",
    "parameters = deepcopy(SM.default_swarm_params)\n",
    "parameters[:rb] = [96.0 96.0; 96.0 96.0]\n",
    "parameters[:cb] = 144.0\n",
    "parameters[:kr] = [150.0 50.0; 150.0 50.0]\n",
    "parameters[:kd] = [0.15, 0.15 ]\n",
    "parameters[:ka] = [0.0, 5.0]\n",
    "parameters[:ra] = [0.0, π/2]\n",
    "parameters[:kg] = 200.0\n",
    "parameters[:rgf] = true\n",
    "# parameters[:rb] = [96.0 96.0; 96.0 108.0]\n",
    "# parameters[:cb] = 144.0\n",
    "# parameters[:kr] = [150.0 50.0; 150.0 75.0]\n",
    "# parameters[:kd] = [0.0, 1.25]\n",
    "# parameters[:ka] = [0.0, 5.0]\n",
    "# parameters[:ra] = [0.0, π/2]\n",
    "# parameters[:kg] = 200.0\n",
    "# parameters[:rgf] = true\n",
    "\n",
    "sb = deepcopy(b)\n",
    "sp = deepcopy(parameters)\n",
    "\n",
    "@gif for i in 1:10001\n",
    "    global b\n",
    "    compute_step(b; parameters...)\n",
    "    prm = findall(b[:,SM.PRM] .> 0.)\n",
    "    _prm = setdiff(1:size(b)[1], prm)\n",
    "    scatter(b[_prm,SM.POS_X],b[_prm,SM.POS_Y]; titlefontsize=10, labelfontsize=8, title=\"Goal seeking, rotating perimeter (border patrol)\", legend=false, markersize=3, markercolor=:black, aspect_ratio=:equal, framestyle=:box, annotationfontsize=8, annotations=(150,150, lpad(i-1, 5, \"0\")), xlabel=\"POS_X\", ylabel=\"POS_Y\", xlims=[-50,160], ylims=[-50,160])\n",
    "    scatter!(b[prm,SM.POS_X],b[prm,SM.POS_Y]; legend=false, markersize=3, markercolor=:red, markerstrokecolor=:red, aspect_ratio=:equal)\n",
    "    plot!([b[:,SM.GOAL_X][1]], [b[:,SM.GOAL_Y][1]], markershape=:cross, markersize=4)\n",
    "    apply_step(b)\n",
    "end every 5"
   ]
  },
  {
   "cell_type": "code",
   "execution_count": null,
   "id": "acdf48d1-f7d2-496c-b027-603bcf5190e5",
   "metadata": {},
   "outputs": [],
   "source": [
    "MS.centroid(b), MS.radius(b), MS.area(b), size(b)[1] / MS.area(b)"
   ]
  },
  {
   "cell_type": "code",
   "execution_count": null,
   "id": "53b6a98c-0542-4e44-9430-493201f809a6",
   "metadata": {},
   "outputs": [],
   "source": [
    "gr()\n",
    "# pyplot()\n",
    "system = (deepcopy(sb), deepcopy(sp))\n",
    "MS.plot_mean_distances(system=system, goal=[100.0 100.0], n_steps=1000, with_stdev=true, plotargs=Dict(:legend=>:bottomright,:ylims=>[0,30], :framestyle=>:box, :top_margin=>20mm, \n",
    "                                                                                                       :xticks=>[n for n in 0:100:1000], :yticks=>[n for n in 0:5:30]),\n",
    "                       alt_file=\"border_patrol_10\")\n",
    "savefig(\"border_patrol_ds_1000.pdf\")"
   ]
  },
  {
   "cell_type": "code",
   "execution_count": null,
   "id": "cfed0891-39e2-4483-851d-b7a0aaa67c0d",
   "metadata": {},
   "outputs": [],
   "source": [
    "gr()\n",
    "b = SM.mk_rand_swarm(20, grid=√20)\n",
    "b[:,SM.GOAL_X:SM.GOAL_Y] .= [100.0 100.0]\n",
    "parameters = deepcopy(SM.default_swarm_params)\n",
    "# parameters[:rb] = [96.0 96.0; 96.0 108.0]\n",
    "# parameters[:cb] = 144.0\n",
    "parameters[:rb] = [48.0 48.0; 48.0 54.0]\n",
    "parameters[:cb] = 54.0\n",
    "# parameters[:kc] = [0.0 1.0; 1.0 1.0]\n",
    "# parameters[:kr] = [150.0 50.0; 50.0 50.0]\n",
    "parameters[:kc] = [0.0 1.0; 1.0 1.0]\n",
    "parameters[:kr] = [150.0 5.0; 5.0 100.0]\n",
    "# parameters[:kd] = [0.0, 0.5]\n",
    "parameters[:kd] = [0.0, 1.0]\n",
    "parameters[:ka] = [0.0, 10.0]\n",
    "parameters[:ra] = [0.0, π/2]\n",
    "# parameters[:kg] = 300.0\n",
    "parameters[:kg] = 400.0\n",
    "parameters[:rgf] = true\n",
    "\n",
    "sb = deepcopy(b)\n",
    "sp = deepcopy(parameters)\n",
    "\n",
    "@gif for i in 1:20001\n",
    "    global b\n",
    "    compute_step(b; parameters...)\n",
    "    prm = findall(b[:,SM.PRM] .> 0.)\n",
    "    _prm = setdiff(1:size(b)[1], prm)\n",
    "    scatter(b[_prm,SM.POS_X],b[_prm,SM.POS_Y]; titlefontsize=10, labelfontsize=8, title=\"Goal seeking, rotating perimeter (border patrol)\", legend=false, markersize=3, markercolor=:black, aspect_ratio=:equal, framestyle=:box, annotationfontsize=8, annotations=(175,175, lpad(i-1, 5, \"0\")), xlabel=\"POS_X\", ylabel=\"POS_Y\", xlims=[-50,200], ylims=[-50,200])\n",
    "    scatter!(b[prm,SM.POS_X],b[prm,SM.POS_Y]; legend=false, markersize=3, markercolor=:red, markerstrokecolor=:red, aspect_ratio=:equal)\n",
    "    plot!([b[:,SM.GOAL_X][1]], [b[:,SM.GOAL_Y][1]], markershape=:cross, markersize=4)\n",
    "    apply_step(b)\n",
    "end every 5"
   ]
  },
  {
   "cell_type": "code",
   "execution_count": null,
   "id": "bb155e8e-20f6-42c8-aa55-5007c0aaf952",
   "metadata": {},
   "outputs": [],
   "source": [
    "gr()\n",
    "b = SM.mk_rand_swarm(60, grid=√60)\n",
    "b[:,SM.GOAL_X:SM.GOAL_Y] .= [100.0 100.0]\n",
    "parameters = deepcopy(SM.default_swarm_params)\n",
    "parameters[:rb] = [96.0 96.0; 96.0 108.0]\n",
    "parameters[:cb] = 144.0\n",
    "# parameters[:kc] = [0.0 1.5; 1.0 0.5]\n",
    "# parameters[:kr] = [150.0 25.0; 25.0 25.0]\n",
    "parameters[:kc] = [0.0 5.0; 2.0 0.1]\n",
    "parameters[:kr] = [150.0 0.0; 0.0 150.0]\n",
    "parameters[:kd] = [0.35, 0.35]\n",
    "parameters[:ka] = [0.0, 7.0]\n",
    "parameters[:ra] = [0.0, π/2]\n",
    "parameters[:kg] = 300.0\n",
    "# parameters[:kg] = 200.0\n",
    "parameters[:rgf] = true\n",
    "\n",
    "sb = deepcopy(b)\n",
    "sp = deepcopy(parameters)\n",
    "\n",
    "@gif for i in 1:20001\n",
    "    global b\n",
    "    compute_step(b; parameters...)\n",
    "    prm = findall(b[:,SM.PRM] .> 0.)\n",
    "    _prm = setdiff(1:size(b)[1], prm)\n",
    "    scatter(b[_prm,SM.POS_X],b[_prm,SM.POS_Y]; titlefontsize=10, labelfontsize=8, title=\"Goal seeking, rotating perimeter (border patrol)\", legend=false, markersize=3, markercolor=:black, aspect_ratio=:equal, framestyle=:box, annotationfontsize=8, annotations=(175,175, lpad(i-1, 5, \"0\")), xlabel=\"POS_X\", ylabel=\"POS_Y\", xlims=[-100,300], ylims=[-100,300])\n",
    "    scatter!(b[prm,SM.POS_X],b[prm,SM.POS_Y]; legend=false, markersize=3, markercolor=:red, markerstrokecolor=:red, aspect_ratio=:equal)\n",
    "    plot!([b[:,SM.GOAL_X][1]], [b[:,SM.GOAL_Y][1]], markershape=:cross, markersize=4)\n",
    "    apply_step(b)\n",
    "end every 5"
   ]
  },
  {
   "cell_type": "code",
   "execution_count": null,
   "id": "dffc13d1-7338-40cb-b123-b578526b2fdd",
   "metadata": {},
   "outputs": [],
   "source": [
    "gr()\n",
    "b = SM.mk_rand_swarm(20, grid=√20)\n",
    "b[:,SM.GOAL_X:SM.GOAL_Y] .= [100.0 100.0]\n",
    "parameters = deepcopy(SM.default_swarm_params)\n",
    "parameters[:rb] = [96.0 96.0; 96.0 108.0]\n",
    "parameters[:cb] = 144.0\n",
    "parameters[:kc] = [0.0 1.0; 1.0 1.0]\n",
    "parameters[:kr] = [150.0 50.0; 50.0 50.0]\n",
    "parameters[:kd] = [0.0, 0.3]\n",
    "parameters[:ka] = [0.0, 2.5]\n",
    "parameters[:ra] = [0.0, π/2]\n",
    "parameters[:kg] = 200.0\n",
    "parameters[:rgf] = true\n",
    "\n",
    "compute_step(b; parameters...)\n",
    "prm = findall(b[:,SM.PRM] .> 0.)\n",
    "_prm = setdiff(1:size(b)[1], prm)\n",
    "scatter(b[_prm,SM.POS_X],b[_prm,SM.POS_Y]; titlefontsize=10, labelfontsize=8, title=\"Goal seeking, rotating perimeter (border patrol)\", legend=false, markersize=3, markercolor=:black, aspect_ratio=:equal, framestyle=:box, xlabel=\"POS_X\", ylabel=\"POS_Y\")\n",
    "scatter!(b[prm,SM.POS_X],b[prm,SM.POS_Y]; legend=false, markersize=3, markercolor=:red, markerstrokecolor=:red, aspect_ratio=:equal)\n",
    "# plot!([b[:,SM.GOAL_X][1]], [b[:,SM.GOAL_Y][1]], markershape=:cross, markersize=4)\n"
   ]
  },
  {
   "cell_type": "code",
   "execution_count": null,
   "id": "dbaa87c2-24e3-408c-b478-bbb7147eade0",
   "metadata": {},
   "outputs": [],
   "source": [
    "fig, ax = plt.subplots()\n",
    "line = Array{Vector{plt.PyObject}, 1}(undef, 2)\n",
    "m = rand(10,10)\n",
    "for i in 1:2\n",
    "    line[i] = ax.plot(m[:,i])\n",
    "end"
   ]
  },
  {
   "cell_type": "code",
   "execution_count": null,
   "id": "70851557-a736-4538-904f-bdc85bd17c4f",
   "metadata": {},
   "outputs": [],
   "source": [
    "typeof(line[1])"
   ]
  },
  {
   "cell_type": "code",
   "execution_count": null,
   "id": "bfbd3836-213e-4474-bcdd-ecf31595ca99",
   "metadata": {},
   "outputs": [],
   "source": []
  }
 ],
 "metadata": {
  "kernelspec": {
   "display_name": "Julia Multi-threaded 1.7.2",
   "language": "julia",
   "name": "julia-multi-threaded-1.7"
  },
  "language_info": {
   "file_extension": ".jl",
   "mimetype": "application/julia",
   "name": "julia",
   "version": "1.7.2"
  }
 },
 "nbformat": 4,
 "nbformat_minor": 5
}
