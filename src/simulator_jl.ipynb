{
 "cells": [
  {
   "cell_type": "markdown",
   "id": "a576d67e",
   "metadata": {},
   "source": [
    "## Initialisation"
   ]
  },
  {
   "cell_type": "code",
   "execution_count": null,
   "id": "89f5b561",
   "metadata": {},
   "outputs": [],
   "source": [
    "include(\"model.jl\")\n",
    "import .SwarmModel as SM\n",
    "using .SwarmModel\n",
    "\n",
    "include(\"modelstats.jl\")\n",
    "import .ModelStats as MS\n",
    "using .ModelStats\n",
    "\n",
    "using Plots"
   ]
  },
  {
   "cell_type": "markdown",
   "id": "9546bb77",
   "metadata": {},
   "source": [
    "## Reproduce graphs from paper"
   ]
  },
  {
   "cell_type": "code",
   "execution_count": null,
   "id": "21a59339",
   "metadata": {},
   "outputs": [],
   "source": [
    "b, parameters = load_swarm(\"./config/base_400.json\")\n",
    "compute_step(b; parameters...)\n",
    "prm = findall(b[:,SM.PRM] .> 0.)\n",
    "scatter(b[:,SM.POS_X],b[:,SM.POS_Y]; legend=false, markersize=2, markercolor=:black, aspect_ratio=:equal)\n",
    "scatter!(b[prm,SM.POS_X],b[prm,SM.POS_Y]; legend=false, markersize=2, markercolor=:red, aspect_ratio=:equal)"
   ]
  },
  {
   "cell_type": "code",
   "execution_count": null,
   "id": "c68260a0",
   "metadata": {},
   "outputs": [],
   "source": [
    "b, parameters = load_swarm(\"./config/base_400.json\")\n",
    "parameters[:kd] = [0.,0.]\n",
    "for i in 1:2000\n",
    "    compute_step(b; parameters...)\n",
    "    apply_step(b)\n",
    "end\n",
    "prm = findall(b[:,SM.PRM] .> 0.)\n",
    "scatter(b[:,SM.POS_X],b[:,SM.POS_Y]; legend=false, markersize=2, markercolor=:black, aspect_ratio=:equal)\n",
    "scatter!(b[prm,SM.POS_X],b[prm,SM.POS_Y]; legend=false, markersize=2, markercolor=:red, aspect_ratio=:equal)"
   ]
  },
  {
   "cell_type": "code",
   "execution_count": null,
   "id": "38548f47",
   "metadata": {},
   "outputs": [],
   "source": [
    "b, parameters = load_swarm(\"./config/base_hole_370.json\")\n",
    "compute_step(b; parameters...)\n",
    "prm = findall(b[:,SM.PRM] .> 0.)\n",
    "scatter(b[:,SM.POS_X],b[:,SM.POS_Y]; legend=false, markersize=2, markercolor=:black, aspect_ratio=:equal)\n",
    "scatter!(b[prm,SM.POS_X],b[prm,SM.POS_Y]; legend=false, markersize=2, markercolor=:red, aspect_ratio=:equal)"
   ]
  },
  {
   "cell_type": "code",
   "execution_count": null,
   "id": "788d0e8b",
   "metadata": {},
   "outputs": [],
   "source": [
    "b, parameters = load_swarm(\"./config/base_hole_370.json\")\n",
    "for i in 1:2000\n",
    "    compute_step(b; parameters...)\n",
    "    apply_step(b)\n",
    "end\n",
    "prm = findall(b[:,SM.PRM] .> 0.)\n",
    "scatter(b[:,SM.POS_X],b[:,SM.POS_Y]; legend=false, markersize=2, markercolor=:black, aspect_ratio=:equal)\n",
    "scatter!(b[prm,SM.POS_X],b[prm,SM.POS_Y]; legend=false, markersize=2, markercolor=:red, aspect_ratio=:equal)"
   ]
  },
  {
   "cell_type": "code",
   "execution_count": null,
   "id": "748a61b1",
   "metadata": {},
   "outputs": [],
   "source": [
    "b, parameters = load_swarm(\"./config/gap_fill_no_rgf_hole_370.json\")\n",
    "for i in 1:2000\n",
    "    compute_step(b; parameters...)\n",
    "    apply_step(b)\n",
    "end\n",
    "prm = findall(b[:,SM.PRM] .> 0.)\n",
    "scatter(b[:,SM.POS_X],b[:,SM.POS_Y]; legend=false, markersize=2, markercolor=:black, aspect_ratio=:equal)\n",
    "scatter!(b[prm,SM.POS_X],b[prm,SM.POS_Y]; legend=false, markersize=2, markercolor=:red, aspect_ratio=:equal)"
   ]
  },
  {
   "cell_type": "code",
   "execution_count": null,
   "id": "f8fc7379",
   "metadata": {},
   "outputs": [],
   "source": [
    "b, parameters = load_swarm(\"./config/gap_fill_with_rgf_hole_370.json\")\n",
    "for i in 1:2000\n",
    "    SM.compute_step(b; parameters...)\n",
    "    SM.apply_step(b)\n",
    "end\n",
    "prm = findall(b[:,SM.PRM] .> 0.)\n",
    "scatter(b[:,SM.POS_X],b[:,SM.POS_Y]; legend=false, markersize=2, markercolor=:black, aspect_ratio=:equal)\n",
    "scatter!(b[prm,SM.POS_X],b[prm,SM.POS_Y]; legend=false, markersize=2, markercolor=:red, aspect_ratio=:equal)"
   ]
  },
  {
   "cell_type": "code",
   "execution_count": null,
   "id": "a4dac2d4",
   "metadata": {},
   "outputs": [],
   "source": [
    "b, parameters = load_swarm(\"./config/outer_400.json\")\n",
    "parameters[:kd] = [0.,0.]\n",
    "for i in 1:2000\n",
    "    compute_step(b; parameters...)\n",
    "    apply_step(b)\n",
    "end\n",
    "prm = findall(b[:,SM.PRM] .> 0.)\n",
    "scatter(b[:,SM.POS_X],b[:,SM.POS_Y]; legend=false, markersize=2, markercolor=:black, aspect_ratio=:equal)\n",
    "scatter!(b[prm,SM.POS_X],b[prm,SM.POS_Y]; legend=false, markersize=2, markercolor=:red, aspect_ratio=:equal)"
   ]
  },
  {
   "cell_type": "code",
   "execution_count": null,
   "id": "60e60bc0",
   "metadata": {},
   "outputs": [],
   "source": [
    "b, parameters = load_swarm(\"./config/inner_400.json\")\n",
    "for i in 1:2000\n",
    "    compute_step(b; parameters...)\n",
    "    apply_step(b)\n",
    "end\n",
    "prm = findall(b[:,SM.PRM] .> 0.)\n",
    "scatter(b[:,SM.POS_X],b[:,SM.POS_Y]; legend=false, markersize=2, markercolor=:black, aspect_ratio=:equal)\n",
    "scatter!(b[prm,SM.POS_X],b[prm,SM.POS_Y]; legend=false, markersize=2, markercolor=:red, aspect_ratio=:equal)"
   ]
  },
  {
   "cell_type": "code",
   "execution_count": null,
   "id": "54e6424b",
   "metadata": {},
   "outputs": [],
   "source": [
    "plot_mean_distances(\"./config/base_400.json\", n_steps=2000, legend=:bottomright)"
   ]
  },
  {
   "cell_type": "code",
   "execution_count": null,
   "id": "f237d5c0",
   "metadata": {},
   "outputs": [],
   "source": [
    "plot_mean_distances(\"./config/base_hole_370.json\", n_steps=2000, legend=:outerright)"
   ]
  },
  {
   "cell_type": "code",
   "execution_count": null,
   "id": "d7fd0c4b",
   "metadata": {},
   "outputs": [],
   "source": [
    "plot_mean_distances(\"./config/gap_fill_no_rgf_hole_370.json\", n_steps=2000)"
   ]
  },
  {
   "cell_type": "code",
   "execution_count": null,
   "id": "dbc43635",
   "metadata": {},
   "outputs": [],
   "source": [
    "plot_mean_distances(\"./config/gap_fill_with_rgf_hole_370.json\", n_steps=2000)"
   ]
  },
  {
   "cell_type": "code",
   "execution_count": null,
   "id": "478030c2",
   "metadata": {},
   "outputs": [],
   "source": [
    "plot_mean_distances(\"./config/inner_400.json\", n_steps=2000, with_stdev=true)"
   ]
  },
  {
   "cell_type": "code",
   "execution_count": null,
   "id": "aa6a7ccd",
   "metadata": {},
   "outputs": [],
   "source": [
    "plot_mean_distances(\"./config/outer_400.json\", n_steps=2000, with_stdev=true)"
   ]
  },
  {
   "cell_type": "code",
   "execution_count": null,
   "id": "ca53fee6",
   "metadata": {},
   "outputs": [],
   "source": [
    "plot_mean_distances(\"./config/outer_400.json\", n_steps=2000, with_stdev=true, pre_p=true)"
   ]
  },
  {
   "cell_type": "markdown",
   "id": "1cd9d1c7",
   "metadata": {},
   "source": [
    "## Animation examples"
   ]
  },
  {
   "cell_type": "code",
   "execution_count": null,
   "id": "39caa657",
   "metadata": {},
   "outputs": [],
   "source": [
    "b, parameters = load_swarm(\"./config/gap_fill_with_rgf_hole_370.json\")\n",
    "@gif for i in 1:2000\n",
    "    compute_step(b; parameters...)\n",
    "    apply_step(b)\n",
    "    prm = findall(b[:,SM.PRM] .> 0.)\n",
    "    scatter(b[:,SM.POS_X],b[:,SM.POS_Y]; legend=false, markersize=3, markercolor=:black, aspect_ratio=:equal)\n",
    "    scatter!(b[prm,SM.POS_X],b[prm,SM.POS_Y]; legend=false, markersize=3, markercolor=:red, aspect_ratio=:equal, annotationfontsize=10, annotations=(20, 15, lpad(i, 5, \"0\")))    \n",
    "end\n"
   ]
  },
  {
   "cell_type": "code",
   "execution_count": null,
   "id": "5b434100",
   "metadata": {},
   "outputs": [],
   "source": [
    "b, parameters = load_swarm(\"./config/gap_fill_with_rgf_hole_370.json\")\n",
    "parameters[:gain] = 0.0008\n",
    "@gif for i in 1:2000\n",
    "    compute_step(b; parameters...)\n",
    "    apply_step(b)\n",
    "    prm = findall(b[:,SM.PRM] .> 0.)\n",
    "    scatter(b[:,SM.POS_X],b[:,SM.POS_Y]; legend=false, markersize=3, markercolor=:black, aspect_ratio=:equal)\n",
    "    scatter!(b[prm,SM.POS_X],b[prm,SM.POS_Y]; legend=false, markersize=3, markercolor=:red, aspect_ratio=:equal, annotationfontsize=10, annotations=(20, 15, lpad(i, 5, \"0\")))    \n",
    "end"
   ]
  },
  {
   "cell_type": "markdown",
   "id": "619ac1d0",
   "metadata": {},
   "source": [
    "## Linear Control Examples"
   ]
  },
  {
   "cell_type": "markdown",
   "id": "2f50584b",
   "metadata": {},
   "source": [
    "### Successes"
   ]
  },
  {
   "cell_type": "code",
   "execution_count": null,
   "id": "9050a501",
   "metadata": {},
   "outputs": [],
   "source": [
    "b, parameters = load_swarm(\"./config/gap_fill_with_rgf_hole_370.json\")\n",
    "parameters[:gain] = 0.0008\n",
    "for i in 1:40000\n",
    "    compute_step(b; parameters...)\n",
    "    apply_step(b)\n",
    "end\n",
    "prm = findall(b[:,SM.PRM] .> 0.)\n",
    "scatter(b[:,SM.POS_X],b[:,SM.POS_Y]; legend=false, markersize=2, markercolor=:black, aspect_ratio=:equal)\n",
    "scatter!(b[prm,SM.POS_X],b[prm,SM.POS_Y]; legend=false, markersize=2, markercolor=:red, aspect_ratio=:equal)"
   ]
  },
  {
   "cell_type": "code",
   "execution_count": null,
   "id": "68e39142",
   "metadata": {},
   "outputs": [],
   "source": [
    "plot_mean_distances(\"./config/gap_fill_with_rgf_hole_370.json\", n_steps=40000, with_stdev=true, overrides=Dict(:gain => 0.0008))"
   ]
  },
  {
   "cell_type": "code",
   "execution_count": null,
   "id": "5e3ec63f",
   "metadata": {},
   "outputs": [],
   "source": [
    "b, parameters = load_swarm(\"./config/inner_400.json\")\n",
    "parameters[:gain] = 0.0008\n",
    "for i in 1:20000\n",
    "    compute_step(b; parameters...)\n",
    "    apply_step(b)\n",
    "end\n",
    "prm = findall(b[:,SM.PRM] .> 0.)\n",
    "scatter(b[:,SM.POS_X],b[:,SM.POS_Y]; legend=false, markersize=2, markercolor=:black, aspect_ratio=:equal)\n",
    "scatter!(b[prm,SM.POS_X],b[prm,SM.POS_Y]; legend=false, markersize=2, markercolor=:red, aspect_ratio=:equal)"
   ]
  },
  {
   "cell_type": "code",
   "execution_count": null,
   "id": "1849d55f",
   "metadata": {},
   "outputs": [],
   "source": [
    "plot_mean_distances(\"./config/inner_400.json\", n_steps=20000, with_stdev=true, overrides=Dict(:gain => 0.0008))"
   ]
  },
  {
   "cell_type": "markdown",
   "id": "45204133",
   "metadata": {},
   "source": [
    "The examples of `gap_fill_with_rgf_hole_370` and `inner_400` show that linear control can achieve good, stable swarm structures using a gain of 0.0008 with all other parameters as before. "
   ]
  },
  {
   "cell_type": "markdown",
   "id": "fbf1031f",
   "metadata": {},
   "source": [
    "### A problem: `outer_400`\n",
    "\n",
    "The next example, `outer_400`, looks less promising so far. The swarm structure graph below shows the swarm structure after 20000 steps, with gain of 0.0008 and other parameters left as before. The swarm becomes much more highly compressed and rather distorted."
   ]
  },
  {
   "cell_type": "code",
   "execution_count": null,
   "id": "ea6b5995",
   "metadata": {},
   "outputs": [],
   "source": [
    "b, parameters = load_swarm(\"./config/outer_400.json\")\n",
    "parameters[:gain] = 0.0008\n",
    "for i in 1:20000\n",
    "    compute_step(b; parameters...)\n",
    "    apply_step(b)\n",
    "end\n",
    "prm = findall(b[:,SM.PRM] .> 0.)\n",
    "scatter(b[:,SM.POS_X],b[:,SM.POS_Y]; legend=false, markersize=2, markercolor=:black, aspect_ratio=:equal)\n",
    "scatter!(b[prm,SM.POS_X],b[prm,SM.POS_Y]; legend=false, markersize=2, markercolor=:red, aspect_ratio=:equal)"
   ]
  },
  {
   "cell_type": "markdown",
   "id": "9f652c46",
   "metadata": {},
   "source": [
    "The knn-distance graph shows that the perimeter classes do settle down to something reasonably stable. Notice that pre-computation of the perimeter is required to get a sensible distance graph. The `boundary` parameter is used to select the cut-off point at which agents should be identified as perimeter agents. The boundary value used for this graph is 20, i.e. if an agent is identified as a perimeter agent in at least 20% (`boundary=20`) of the steps then it is classified as a perimeter agent. "
   ]
  },
  {
   "cell_type": "code",
   "execution_count": null,
   "id": "8d83b46a",
   "metadata": {},
   "outputs": [],
   "source": [
    "plot_mean_distances(\"./config/outer_400.json\", n_steps=20000, with_stdev=true, pre_p=true, boundary=20, saved_figure=true, overrides=Dict(:gain => 0.0008))"
   ]
  },
  {
   "cell_type": "markdown",
   "id": "fd0e5b1b",
   "metadata": {},
   "source": [
    "A boundary value of 20 seems like a low cut-off value. It is much lower than our usual value (`boundary=50`). However, the swarm structure graph below shows that in this case a boundary value of 20 is appropriate, as it identifies all, and only, those agents that would be identified as 'on the perimeter' by a human observer."
   ]
  },
  {
   "cell_type": "code",
   "execution_count": null,
   "id": "4c956415",
   "metadata": {},
   "outputs": [],
   "source": [
    "b1, parameters1 = load_swarm(\"./config/outer_400.json\")\n",
    "parameters1[:gain] = 0.0008\n",
    "p = MS.agent_perimeter_status(b1, parameters1, n_steps=20000, boundary=20)\n",
    "prm = findall(p .== 2)\n",
    "scatter(b[:,SM.POS_X],b[:,SM.POS_Y]; legend=false, markersize=2, markercolor=:black, aspect_ratio=:equal)\n",
    "scatter!(b[prm,SM.POS_X],b[prm,SM.POS_Y]; legend=false, markersize=2, markercolor=:red, aspect_ratio=:equal)"
   ]
  },
  {
   "cell_type": "markdown",
   "id": "df4ad13c",
   "metadata": {},
   "source": [
    "The distance graph below gives the results when a boundary value of 50 is used for this example. It can be seen that only the $(S_i, S_i)$ class of agents is present in the graph. This is because a boundary value of 50 identifies _no_ agents as perimeter agents, suggesting that the perimeter is highly unstable."
   ]
  },
  {
   "cell_type": "code",
   "execution_count": null,
   "id": "570123dd",
   "metadata": {},
   "outputs": [],
   "source": [
    "plot_mean_distances(\"./config/outer_400.json\", n_steps=20000, with_stdev=true, pre_p=true, boundary=50, overrides=Dict(:gain => 0.0008))"
   ]
  },
  {
   "cell_type": "markdown",
   "id": "04628ffb",
   "metadata": {},
   "source": [
    "The final example shows an attempt to find some parameters to produce a well-structured swarm with a compact perimeter. This is the best I've been able to manage so far. It can be seen that the swarm is neither as well-structured, nor is its perimeter as compact, as in the normalised version. Maybe this is a prime target for a learning algorithm? Or perhaps you can find a better set of parameters?"
   ]
  },
  {
   "cell_type": "code",
   "execution_count": null,
   "id": "5dcd1d30",
   "metadata": {},
   "outputs": [],
   "source": [
    "b, parameters = load_swarm(\"./config/outer_400.json\")\n",
    "parameters[:kd] = [0.,0.]\n",
    "parameters[:gain] = 0.0008\n",
    "parameters[:kc] = [0.15 5.0; 0.15 75.0]\n",
    "parameters[:kr] = [20.0 2.0; 100.0 75.0]\n",
    "parameters[:kg] = 350\n",
    "for i in 1:60000\n",
    "    compute_step(b; parameters...)\n",
    "    apply_step(b)\n",
    "end\n",
    "prm = findall(b[:,SM.PRM] .> 0.)\n",
    "scatter(b[:,SM.POS_X],b[:,SM.POS_Y]; legend=false, markersize=2, markercolor=:black, aspect_ratio=:equal)\n",
    "scatter!(b[prm,SM.POS_X],b[prm,SM.POS_Y]; legend=false, markersize=2, markercolor=:red, aspect_ratio=:equal, )\n",
    "#annotationfontsize=10, annotations=(20, 10, lpad(i, 5, \"0\"))"
   ]
  },
  {
   "cell_type": "code",
   "execution_count": null,
   "id": "2c3e51bf",
   "metadata": {},
   "outputs": [],
   "source": [
    "plot_mean_distances(\"./config/outer_400.json\", n_steps=60000, with_stdev=true, pre_p=true, boundary=20, \n",
    "                    overrides=Dict(:kc => [0.15 5.0; 0.15 75.0], :kd => [0.,0.], :kr => [20.0 2.0; 100.0 75.0], :kg => 350, :gain => 0.0008))"
   ]
  },
  {
   "cell_type": "code",
   "execution_count": null,
   "id": "5560e28e",
   "metadata": {},
   "outputs": [],
   "source": [
    "b, parameters = load_swarm(\"./config/outer_400.json\")\n",
    "parameters[:gain] = 0.0008\n",
    "parameters[:kc] = [0.15 5.0; 0.15 75.0]\n",
    "parameters[:kr] = [20.0 2.0; 100.0 75.0]\n",
    "parameters[:kg] = 350\n",
    "parameters[:kd] = [0., 0.]\n",
    "@gif for i in 1:2000\n",
    "    compute_step(b; parameters...)\n",
    "    apply_step(b)\n",
    "    prm = findall(b[:,SM.PRM] .> 0.)\n",
    "    scatter(b[:,SM.POS_X],b[:,SM.POS_Y]; legend=false, markersize=2, markercolor=:black, aspect_ratio=:equal)\n",
    "    scatter!(b[prm,SM.POS_X],b[prm,SM.POS_Y]; legend=false, markersize=2, markercolor=:red, aspect_ratio=:equal, annotationfontsize=10, annotations=(16, 10, lpad(i, 5, \"0\")))\n",
    "end\n"
   ]
  },
  {
   "cell_type": "markdown",
   "id": "cb27ce53",
   "metadata": {},
   "source": [
    "## Adversarial vector"
   ]
  },
  {
   "cell_type": "code",
   "execution_count": null,
   "id": "fade9c12-a991-4ee6-8684-d9df71eedb1e",
   "metadata": {},
   "outputs": [],
   "source": [
    "b, parameters = load_swarm(\"./config/base_400.json\")"
   ]
  },
  {
   "cell_type": "code",
   "execution_count": null,
   "id": "26762d8b-e2f9-4ad8-be26-56f4e10aee4b",
   "metadata": {},
   "outputs": [],
   "source": [
    "parameters"
   ]
  },
  {
   "cell_type": "code",
   "execution_count": null,
   "id": "1dc7497c",
   "metadata": {},
   "outputs": [],
   "source": [
    "b, parameters = load_swarm(\"./config/base_400.json\")\n",
    "b[:,SM.GOAL_X:SM.GOAL_Y] .= [10.0 10.0]\n",
    "parameters[:kd] = [0.15, 0.15]\n",
    "parameters[:ka] = [0.0, -10.0]\n",
    "parameters[:kg] = 150\n",
    "parameters[:rgf] = true\n",
    "parameters[:gain] = 0.0008\n",
    "for i in 1:50000\n",
    "    compute_step(b; parameters...)\n",
    "    apply_step(b)\n",
    "end\n",
    "prm = findall(b[:,SM.PRM] .> 0.)\n",
    "scatter(b[:,SM.POS_X],b[:,SM.POS_Y]; legend=false, markersize=2, markercolor=:black, aspect_ratio=:equal)\n",
    "scatter!(b[prm,SM.POS_X],b[prm,SM.POS_Y]; legend=false, markersize=2, markercolor=:red, aspect_ratio=:equal)"
   ]
  },
  {
   "cell_type": "code",
   "execution_count": null,
   "id": "1316ed00",
   "metadata": {},
   "outputs": [],
   "source": [
    "@gif for i in 1:2000\n",
    "    compute_step(b; parameters...)\n",
    "    apply_step(b)\n",
    "    prm = findall(b[:,SM.PRM] .> 0.)\n",
    "    scatter(b[:,SM.POS_X],b[:,SM.POS_Y]; legend=false, markersize=2, markercolor=:black, aspect_ratio=:equal)\n",
    "    scatter!(b[prm,SM.POS_X],b[prm,SM.POS_Y]; legend=false, markersize=2, markercolor=:red, aspect_ratio=:equal, annotationfontsize=10, annotations=(20, 20, lpad(i, 5, \"0\")))\n",
    "end"
   ]
  },
  {
   "cell_type": "code",
   "execution_count": null,
   "id": "828760aa",
   "metadata": {},
   "outputs": [],
   "source": [
    "b, parameters = load_swarm(\"./config/base_400.json\")\n",
    "b[:,SM.GOAL_X:SM.GOAL_Y] .= [10.0 10.0]\n",
    "parameters[:kd] = [0.15, 0.15]\n",
    "parameters[:ka] = [0.0, 10.0]\n",
    "parameters[:kg] = 150\n",
    "parameters[:rgf] = true\n",
    "parameters[:gain] = 0.0008\n",
    "for i in 1:50000\n",
    "    compute_step(b; parameters...)\n",
    "    apply_step(b)\n",
    "end\n",
    "prm = findall(b[:,SM.PRM] .> 0.)\n",
    "_prm = setdiff(1:size(b)[1], prm)\n",
    "scatter(b[_prm,SM.POS_X],b[_prm,SM.POS_Y]; legend=false, markersize=2, markercolor=:black, aspect_ratio=:equal)\n",
    "scatter!(b[prm,SM.POS_X],b[prm,SM.POS_Y]; legend=false, markersize=2, markercolor=:red, aspect_ratio=:equal)"
   ]
  },
  {
   "cell_type": "code",
   "execution_count": null,
   "id": "aa1cd9cc",
   "metadata": {},
   "outputs": [],
   "source": [
    "@gif for i in 1:2000\n",
    "    compute_step(b; parameters...)\n",
    "    apply_step(b)\n",
    "    prm = findall(b[:,SM.PRM] .> 0.)\n",
    "    _prm = setdiff(1:size(b)[1], prm)\n",
    "    scatter(b[_prm,SM.POS_X],b[_prm,SM.POS_Y]; legend=false, markersize=2, markercolor=:black, aspect_ratio=:equal)\n",
    "    scatter!(b[prm,SM.POS_X],b[prm,SM.POS_Y]; legend=false, markersize=2, markercolor=:red, aspect_ratio=:equal, annotationfontsize=10, annotations=(20, 20, lpad(i, 5, \"0\")))\n",
    "end"
   ]
  },
  {
   "cell_type": "code",
   "execution_count": null,
   "id": "54d1b817",
   "metadata": {},
   "outputs": [],
   "source": [
    "b, parameters = load_swarm(\"./config/bubble.json\")\n",
    "delete!(parameters, :arange)\n",
    "for i in 1:50000\n",
    "    compute_step(b; parameters...)\n",
    "    apply_step(b)\n",
    "end\n",
    "prm = findall(b[:,SM.PRM] .> 0.)\n",
    "_prm = setdiff(1:size(b)[1], prm)\n",
    "scatter(b[_prm,SM.POS_X],b[_prm,SM.POS_Y]; legend=false, markersize=2, markercolor=:black, aspect_ratio=:equal)\n",
    "scatter!(b[prm,SM.POS_X],b[prm,SM.POS_Y]; legend=false, markersize=2, markercolor=:red, aspect_ratio=:equal)"
   ]
  },
  {
   "cell_type": "code",
   "execution_count": null,
   "id": "8ea8b7df-89a4-45eb-a442-328839cbf162",
   "metadata": {},
   "outputs": [],
   "source": [
    "b, parameters = load_swarm(\"./config/bubble.json\")\n",
    "delete!(parameters, :arange)\n",
    "@gif for i in 1:2000\n",
    "    compute_step(b; parameters...)\n",
    "    apply_step(b)\n",
    "    prm = findall(b[:,SM.PRM] .> 0.)\n",
    "    _prm = setdiff(1:size(b)[1], prm)\n",
    "    scatter(b[_prm,SM.POS_X],b[_prm,SM.POS_Y]; legend=false, markersize=3, markercolor=:black, aspect_ratio=:equal)\n",
    "    scatter!(b[prm,SM.POS_X],b[prm,SM.POS_Y]; legend=false, markersize=3, markercolor=:red, aspect_ratio=:equal, annotationfontsize=10, annotations=(20, 20, lpad(i, 5, \"0\")))\n",
    "end"
   ]
  },
  {
   "cell_type": "code",
   "execution_count": null,
   "id": "4708e3e4-90d8-46c8-ae39-9c292c0683a8",
   "metadata": {},
   "outputs": [],
   "source": []
  }
 ],
 "metadata": {
  "kernelspec": {
   "display_name": "Julia Multi-threaded 1.7.2",
   "language": "julia",
   "name": "julia-multi-threaded-1.7"
  },
  "language_info": {
   "file_extension": ".jl",
   "mimetype": "application/julia",
   "name": "julia",
   "version": "1.7.2"
  }
 },
 "nbformat": 4,
 "nbformat_minor": 5
}
